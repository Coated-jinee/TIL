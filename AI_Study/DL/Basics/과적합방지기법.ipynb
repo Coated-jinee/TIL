{
 "cells": [
  {
   "cell_type": "markdown",
   "metadata": {},
   "source": [
    "## 01. 과적합 방지 기법\n",
    "1) 정규화와 드롭아웃\n",
    "2) 조기 종료와 데이터 증강\n",
    "\n",
    "\n",
    "\n",
    "## 하이퍼파라미터 튜닝\n",
    "\n",
    "모델은 학습을 단계별로 진행함. 반복해서 진행 -> 이걸 에포크 라고 함. \n",
    "왜 단계별로 하나? -> 한번에 최적값을 찾을 수 없음\n",
    "\n",
    "학습률\n",
    "- 학습률은 가중치를 업데이트하는 속도를 결정\n",
    "- 너무 크면 학습이 불안정해지고, 너무 작으면 학습이 느려진다.\n",
    "- 일반적으로 0.1, 0.01, 0.001 등의 값을 시도해볼 수 있다.\n",
    "\n",
    "배치크키 (Batch Size)\n",
    "\n",
    "에포크수\n",
    "\n",
    "모멘텀(Momentum)\n",
    "- \n",
    "\n",
    "가중치 초기화(Weight Initialization)\n",
    "\n",
    "2) 하이퍼 파라미터 자동 튜닝 기법\n",
    "\n",
    "- Grid Search\n",
    "- Random Search\n"
   ]
  }
 ],
 "metadata": {
  "language_info": {
   "name": "python"
  }
 },
 "nbformat": 4,
 "nbformat_minor": 2
}
