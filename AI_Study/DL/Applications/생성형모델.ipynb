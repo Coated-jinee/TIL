{
 "cells": [
  {
   "cell_type": "markdown",
   "metadata": {},
   "source": [
    "01. 오토인코더 - 생성형 모델은 아니지만, 오토인코더가 없는 생성형 모델은 없음 \n",
    "    - 인코더와 디코더로 이루어져 있음\n",
    "    \n",
    "\n"
   ]
  }
 ],
 "metadata": {
  "language_info": {
   "name": "python"
  }
 },
 "nbformat": 4,
 "nbformat_minor": 2
}
