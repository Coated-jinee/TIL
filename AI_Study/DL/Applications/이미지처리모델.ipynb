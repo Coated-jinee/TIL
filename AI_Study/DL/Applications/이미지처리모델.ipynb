{
 "cells": [
  {
   "cell_type": "markdown",
   "metadata": {},
   "source": [
    "01.CNN기반 이미지분류\n",
    "1) ResNet emd 주요 CNN 기반 \n",
    "- ResNet\n",
    "- VGG\n",
    "- Inception\n",
    "\n",
    "2) 객체 탐지(YOLO) - 버전마다 저작권이 다름\n",
    "YOLO의 개념\n",
    "YOLO의 동작 원리\n",
    "\n",
    "3) 이미지 세그멘테이션 기법과 응용\n",
    "- 이미지 세그멘테이션\n",
    "- 주요 세그멘세이션 모델\n",
    "    - FCN\n",
    "    - U-NET (의료 이미지처리에 많이 사용함)\n",
    "    - Mask R-CNN\n"
   ]
  },
  {
   "cell_type": "code",
   "execution_count": null,
   "metadata": {
    "vscode": {
     "languageId": "plaintext"
    }
   },
   "outputs": [],
   "source": []
  }
 ],
 "metadata": {
  "language_info": {
   "name": "python"
  }
 },
 "nbformat": 4,
 "nbformat_minor": 2
}
