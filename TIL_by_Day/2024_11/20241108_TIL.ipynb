{
 "cells": [
  {
   "cell_type": "markdown",
   "metadata": {},
   "source": [
    "뇌정지"
   ]
  },
  {
   "cell_type": "markdown",
   "metadata": {},
   "source": [
    "### R programming 특강\n",
    "\n",
    "print()\n",
    "matrix()\n",
    "datafrme()\n",
    "list()\n",
    "apply() / lapply()\n",
    "floor() \n",
    "do.call()\n",
    "에 대해 설명하는 자료 추가하기 (+ 각 parameter)\n",
    "\n",
    "microarray\n",
    "RNA-seq\n",
    "Single cell RNA \n",
    "를 설명하는 슬라이드 1페이지씩 추가하기\n",
    "\n",
    "통계는 CLT의 개념 까지 설명못할거같으면, 확률분포 정규분포는 빼기"
   ]
  },
  {
   "cell_type": "markdown",
   "metadata": {},
   "source": [
    "### 오늘의 파이썬: 홀 짝 구분하기\n",
    "문제 설명: \n",
    "자연수 n이 입력으로 주어졌을 때 만약 n이 짝수이면 \"n is even\"을, 홀수이면 \"n is odd\"를 출력하는 코드를 작성해 보세요.\n",
    "\n",
    "- 이 문제는 예전에 시험문제로 나왔다. 나누기 2를 해서, 나머지를 이용해서 나머지가 0이면 짝수(나눠지니까) 나머지가 1이면 홀수를 출력시키도록 하는 거였다.\n",
    "- 결과적으로 이 문제를 틀림으로써 내가 부족하다고 생각하는 부분을 또 정확하게 관통당했다. 내 실력은 아직 제자리인거지 ㅠㅠ\n",
    "\n",
    "- if, else로 조건을 걸어야 하는 것을 알았음\n",
    "- 나머지를 이용해야하는 것을 알았음\n",
    "- f-string을 통한 print를 하면 되는 것을 알았음\n",
    "\n",
    "이걸 다 합치면? 틀린다."
   ]
  },
  {
   "cell_type": "code",
   "execution_count": null,
   "metadata": {},
   "outputs": [],
   "source": [
    "### 오답노트\n",
    "a = int(input()) #프로그래머스에서 주어진 첫번째 줄\n",
    "\n",
    "if a / 2 != 0: \n",
    "    print(f\"{a} is even\")\n",
    "else:\n",
    "    print(f\"{a} is odd\")"
   ]
  },
  {
   "cell_type": "markdown",
   "metadata": {},
   "source": [
    "나는 조건문의 내용을 잘못 썼다. \n",
    "if a / 2 != 0: 이 부분에서 a가 2로 나누어 졌을 때 나머지가 0이 아니라는 조건을 걸려고 쓴건데, \n",
    "이 조건은 짝수를 확인하는 올바른 방법이 아니다. 코드를 쓸 때는 나머지 연산자가 생각이 안나서 이렇게 썼던 것 같다.\n",
    "\n",
    "if a / 2 != 0: \n",
    "이 조건의 뜻은 a가 0이 아닐 때, 라는 조건을 거는거여서 짝수와 홀수를 구분하는 데 도움이 되지 않는다.\n",
    "\n",
    "나는 코드를 다음과 같이 수정하였다."
   ]
  },
  {
   "cell_type": "code",
   "execution_count": null,
   "metadata": {},
   "outputs": [],
   "source": [
    "#### 최종 정답\n",
    "a = int(input())\n",
    "\n",
    "if a%2 == 0:\n",
    "    print(f\"{a} is even\")\n",
    "else:\n",
    "    print(f\"{a} is odd\")\n"
   ]
  },
  {
   "cell_type": "markdown",
   "metadata": {},
   "source": [
    "## AI 활용: 허깅페이스\n",
    "### 가상환경 활성화를 반드시 하자.\n",
    "- 실습을 위해 새 가상환경 ai_1 생성\n",
    "\n",
    "### 허깅페이스의 transformers 사용 준비\n",
    "pip install transformers\n",
    "pip3 install torch torchvision torchaudio\n",
    "\n",
    "### 주피터노트북에 새로만든 가상환경 추가\n",
    "conda install ipykernel\n",
    "python -m ipykernel install --user --name ai_1 --display-name \"Python (ai_1)\"\n",
    "\n",
    "conda install ipywidgets\n",
    "\n",
    "\n",
    "### GitHub의 Open Project로 AI 활용하기\n",
    "- Github을 사용할 때 주의점: 각각의 코드마다 라이센스가 다르고, 코드가 수정이 안될 수도 있음. \n",
    "\n",
    "### Git과 Github\n",
    "- 파이토치의 github가 있다. \n",
    "- github.com/pytorch/pytorch\n",
    "\n",
    "\n",
    "6️⃣ **AlphaFold - 단백질 구조 예측**\n",
    "\n",
    "DeepMind에서 개발한 `AlphaFold`는 단백질의 3D 구조를 예측하는 AI 모델로, 생명과학 연구에 큰 혁신을 가져왔습니다.\n",
    "\n",
    "> 활용: 생명과학에 관심 있다면, 이 프로젝트를 클론해 단백질 구조 예측 모델을 학습해볼 수 있어요. 연구 목적이나 교육용으로도 훌륭해요.\n",
    "\n",
    "- 대박 여기서 AlphaFold가 나오다니 ~ \n",
    "- 뭐야 나 이거 배우면 AlphaFold도 써볼수있는건가? 완전 럭키비키잖아~\n",
    "\n",
    "### API로 인공지능 활용하기\n",
    "- API는 프로그램 간에 데이터를 주고받을 수 있게 해주는 인터페이스이다.\n",
    "- 라이브러리 같은 느낌인건가? \n",
    "- API를 제공하는 서버와 / 클라이언트가 있다.\n",
    "\n",
    "#### API활용의 장단점\n",
    "**장점**\n",
    "1. 손쉬운 사용\n",
    "2. 신속한 개발\n",
    "3. 확장성\n",
    "\n",
    "**단점**\n",
    "1. 성능좋으면 비쌈\n",
    "2. 제한된 제어\n",
    "3. 의존성\n",
    "\n",
    "#### API 사용 시 알아두면 좋은 팁\n",
    "1. 문서읽기\n",
    "2. API 키 관리\n",
    "3. 무료 할당량 체크 \n"
   ]
  }
 ],
 "metadata": {
  "language_info": {
   "name": "python"
  }
 },
 "nbformat": 4,
 "nbformat_minor": 2
}
