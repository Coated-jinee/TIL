{
 "cells": [
  {
   "cell_type": "markdown",
   "metadata": {},
   "source": [
    "# 2024년 11월 14일 목요일\n",
    "## 할일 \n",
    "- [x] 학습 목표 설정\n",
    "### 학습 목표 설정\n",
    "- 2배로 빠르게 훑고 정말 중요한 개념을 먼저 뽑기\n",
    "    - Transformer 속 라이브러리\n",
    "    - 다양한 NLP 모델 써보기\n",
    "### R programming 특강 종료"
   ]
  }
 ],
 "metadata": {
  "language_info": {
   "name": "python"
  }
 },
 "nbformat": 4,
 "nbformat_minor": 2
}
