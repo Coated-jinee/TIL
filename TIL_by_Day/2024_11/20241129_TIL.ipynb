{
 "cells": [
  {
   "cell_type": "markdown",
   "metadata": {},
   "source": [
    "# 2024년 11월 29일 금요일 (Friday, November 29, 2024)"
   ]
  },
  {
   "cell_type": "code",
   "execution_count": 1,
   "metadata": {},
   "outputs": [
    {
     "data": {
      "application/vnd.jupyter.widget-view+json": {
       "model_id": "1dcfd104d926452f982844b42e5c96df",
       "version_major": 2,
       "version_minor": 0
      },
      "text/plain": [
       "HBox(children=(Button(layout=Layout(border_bottom='1px solid black', border_left='1px solid black', border_rig…"
      ]
     },
     "metadata": {},
     "output_type": "display_data"
    },
    {
     "data": {
      "application/vnd.jupyter.widget-view+json": {
       "model_id": "a1021a39fc9a42ef9980a1e4f4e9fbc9",
       "version_major": 2,
       "version_minor": 0
      },
      "text/plain": [
       "HBox(children=(Button(layout=Layout(border_bottom='1px solid black', border_left='1px solid black', border_rig…"
      ]
     },
     "metadata": {},
     "output_type": "display_data"
    },
    {
     "data": {
      "application/vnd.jupyter.widget-view+json": {
       "model_id": "ff84085aaccb4300ba54fbf8171f56bd",
       "version_major": 2,
       "version_minor": 0
      },
      "text/plain": [
       "HBox(children=(Button(layout=Layout(border_bottom='1px solid black', border_left='1px solid black', border_rig…"
      ]
     },
     "metadata": {},
     "output_type": "display_data"
    },
    {
     "data": {
      "application/vnd.jupyter.widget-view+json": {
       "model_id": "83f698b6f0964a748cb67fac2208d1b6",
       "version_major": 2,
       "version_minor": 0
      },
      "text/plain": [
       "HBox(children=(Button(layout=Layout(border_bottom='1px solid black', border_left='1px solid black', border_rig…"
      ]
     },
     "metadata": {},
     "output_type": "display_data"
    }
   ],
   "source": [
    "from modules.TaskCheckbox import TaskCheckbox  # TIL_by_Day 폴더 내 modules에서 import\n",
    "\n",
    "# 할 일 추가\n",
    "task1 = TaskCheckbox(\"베이직반:오늘의문법 (변수) 공부하기\")\n",
    "task2 = TaskCheckbox(\"베이직반:오늘의파이썬 코드카타하기\")\n",
    "task3 = TaskCheckbox(\"특강: README문서 작성법 정리하기\")\n",
    "task4 = TaskCheckbox(\"팀프로젝트\")\n",
    "\n",
    "# 각 할 일 표시\n",
    "task1.display()\n",
    "task2.display()\n",
    "task3.display()\n",
    "task4.display()\n"
   ]
  },
  {
   "cell_type": "markdown",
   "metadata": {},
   "source": [
    "# Git push 결과 분석\n",
    "평소처럼 git push 하고 VSCode 터미널 화면을 보는데, 문득 그런 생각이 들었다.  \n",
    "'항상 git push가 정상 적으로 된 것만 확인하고 터미널 결과내용이 어떤걸 알려주는지 이해하고 넘어 간 적이 없구나' 라는 생각.  \n",
    "그래서 Git push 결과를 바탕으로 git push를 하면 출력해주는 결과에 대해 정리한다.  \n",
    "\n",
    "아래는 git push를 하면 나오는 결과이다.  \n",
    "\n",
    "push를 하면 작업 단계별로 로그가 나온다."
   ]
  },
  {
   "cell_type": "raw",
   "metadata": {
    "vscode": {
     "languageId": "raw"
    }
   },
   "source": [
    "(TIL) (base) jinee@JINEE-MacBook TIL % git push \n",
    "Enumerating objects: 7, done.\n",
    "Counting objects: 100% (7/7), done.\n",
    "Delta compression using up to 8 threads\n",
    "Compressing objects: 100% (4/4), done.\n",
    "Writing objects: 100% (4/4), 113.90 KiB | 18.98 MiB/s, done.\n",
    "Total 4 (delta 2), reused 0 (delta 0), pack-reused 0\n",
    "remote: Resolving deltas: 100% (2/2), completed with 2 local objects.\n",
    "To https://github.com/Coated-jinee/TIL\n",
    "   c177de5..e91efac  main -> main"
   ]
  },
  {
   "cell_type": "markdown",
   "metadata": {
    "vscode": {
     "languageId": "raw"
    }
   },
   "source": [
    "## 1. Git 작업 단계별 로그\n",
    "### 1.1 객체탐색\n",
    "- Enumerating objects: 7, done.\n",
    "  - 로컬 저장소에서 7개의 객체(커밋, 트리 등)을 탐색함\n",
    "- Counting objects: 100% (7/7), done.\n",
    "  - 탐색이 완료되었으며, 총 7개의 객체를 확인 \n",
    "### 1.2 델타압축\n",
    "- Delta compression using up to 8 threads\n",
    "  - Git은 네트워크 효율을 높이기 위해 최대 8개의 스레드를 사용해 델타 압축을 수행함\n",
    "- Compressing objects: 100% (4/4), done.\n",
    "  - 변경된 4개의 객체를 델타 형식으로 압축함\n",
    "\n",
    "### 1.3 데이터 전송\n",
    "- Writing objects: 100% (4/4), 113.90 KiB | 18.98 MiB/s, done.\n",
    "  - 압축된 객체를 11.30KiB 크기로 전송\n",
    "  - 전송 속도: 18.98 MiB/s\n",
    "- Total 4 (delta 2), reused 0 (delta 0), pack-reused 0\n",
    "  - 4개의 객체 전송 완료\n",
    "  - 이 중 2개의 델타 객체(변경된 내용)만 전송\n",
    "  - 기존 데이터를 재사용하지 않았음\n",
    "\n",
    "### 1.4 원격 저장소 처리\n",
    "- remote: Resolving deltas: 100% (2/2), completed with 2 local objects.\n",
    "  - 원격 저장소에서 2개의 델타 객체를 성공적으로 적용\n",
    "  \n",
    "## 2. 브랜치 업데이트\n",
    "- To https://github.com/Coated-jinee/TIL\n",
    "   c177de5..e91efac  main -> main\n",
    "   - 이전 커밋: c177de5\n",
    "   - 새 커밋: e91efac\n",
    "   - 로컬 브랜치와 원격 브랜치(main)가 동기화 됨"
   ]
  },
  {
   "cell_type": "markdown",
   "metadata": {},
   "source": [
    "# LangChain\n",
    "LLM을 활용 한 애플리케이션을 쉽게 개발할 수 있도록 도와주는 Python 기반의 **프레임워크**\\*이다.\n",
    "\n",
    "## LangChain의 주요 기능\n",
    "1. 언어모델 연결\n",
    "   - OpenAI의 GPT, Hugging Face 모델 등 다양한 언어 모델을 쉽게 통합할 수 있음\n",
    "2. 체인(Chains) 생성\n",
    "   - 여러 작업(예: 질문-답변, 요약, 데이터 변환)을 **체인(chain)**으로 연결하여 복잡한 워크플로우를 구성할 수 있음\n",
    "3. 프롬프트 관리\n",
    "   - 다양한 상황에 맞는 프롬프트 템플릿을 관리하고 사용할 수 있음\n",
    "4. 외부 데이터와의 연결\n",
    "   - 데이터베이스, 파일, API, 웹 스크래핑 등을 통해 언어모델이 실제 데이터에 접근할 수 있도록 지원함\n",
    "5. 에이전트(Agents)\n",
    "   - 에이전트를 활용하여 언어 모델이 도구(예: 계산기, 검색 엔진)를 활용하거나 특정 작업을 자동화할 수 있음\n",
    "6. 메모리(Memory)\n",
    "   - 대화형 애플리케이션에서 컨텍스트를 기억하여 이전 대화 내용을 기반으로 응답을 생성하도록 지원함\n",
    "\n",
    "## LangChain의 활용 예시\n",
    "1. 챗봇 개발\n",
    "2. 질문-답변 시스템\n",
    "3. 문서 요약\n",
    "4. 다중 도구 활용\n",
    "   - 계산기, 검색 엔진, 외부 API등을 활용하여 복잡한 작업을 처리\n",
    "\n",
    "## LangChain의 구조\n",
    "LangChain은 크게 6가지 모듈로 구성된다:\n",
    "- 모델(Models), 프롬프트(Prompt Templates), 체인(Chain), 에이전트(Agents), 메모리(Memory), 커넥터(Connectors)\n",
    "\n",
    "---\n",
    "\\* 프레임워크(Framework)란 소프트웨어 개발을 더 쉽게 하고 효율적으로 만들어주는 구조와 규칙을 제공하는 도구"
   ]
  },
  {
   "cell_type": "markdown",
   "metadata": {},
   "source": [
    "# 특강: README 작성 특강\n",
    "\n",
    "## 마크다운 문법\n",
    "### 코드입력: `\n",
    "- 백쿼드, 백틱 (`) 을 쓰면 코드 입력 가능  \n",
    "\n",
    "Mac에서 한글 키보드 상태 일때는 option + ₩ 눌러야 나오고,  \n",
    "영문 키보드 상태에서는 그냥 ₩ 누르면 나옴 `\n",
    "\n",
    "**사용 예시:**\n",
    "`num_1`\n",
    "\n",
    "- 백틱 3개 (```)면 코드블록 가능 (두번써야 닫아짐)\n",
    "\n",
    "```\n",
    "print(\"hello, world\")\n",
    "```\n",
    "\n",
    "## 표 정렬\n",
    "| 첫번째(기본왼쪽) | 두번째(가운데) | 세번째(오른쪽) |\n",
    "| ---|:---:|---:|\n",
    "|왼쪽|가운데|오른쪽|\n",
    "|된|건|가|\n",
    "\n",
    "## Markdown 참고 사이트\n",
    "### 마크다운으로 LaTex 쓰기\n",
    "\n",
    "\n",
    "### 이모지 넣기\n",
    "- Emoji Cheat Sheet 사이트\n",
    "\n",
    "![imoji](image/markdown_imoji.png)\n",
    "\n",
    "## README 구성 요소별 작성 가이드\n",
    "\n",
    "### README ..."
   ]
  },
  {
   "cell_type": "markdown",
   "metadata": {},
   "source": [
    "# 베이직반:오늘의문법(변수)\n",
    "\n",
    "\n"
   ]
  },
  {
   "cell_type": "markdown",
   "metadata": {},
   "source": [
    "# 팀프로젝트: issue 발생\n"
   ]
  },
  {
   "cell_type": "markdown",
   "metadata": {},
   "source": [
    "# 회고\n",
    "아직 LangChain 쓰는 법도 모르고.. streamlit도 못하고.. readme도 못쓰고..  \n",
    "어렵고..\n"
   ]
  },
  {
   "cell_type": "code",
   "execution_count": null,
   "metadata": {},
   "outputs": [],
   "source": [
    "from modules.TaskCheckbox import TaskCheckbox\n",
    "\n",
    "# 할 일 추가\n",
    "task1 = TaskCheckbox(\"LangChain 공식문서 보고 RAG 구현하기\")\n",
    "task2 = TaskCheckbox(\"크롤링 더 하기 \")\n",
    "task3 = TaskCheckbox(\"README문서 작성하기\")\n",
    "task4 = TaskCheckbox(\"팀프로젝트\")\n",
    "\n",
    "# 각 할 일 표시\n",
    "task1.display()\n",
    "task2.display()\n",
    "task3.display()\n",
    "task4.display()"
   ]
  }
 ],
 "metadata": {
  "kernelspec": {
   "display_name": "TIL",
   "language": "python",
   "name": "python3"
  },
  "language_info": {
   "codemirror_mode": {
    "name": "ipython",
    "version": 3
   },
   "file_extension": ".py",
   "mimetype": "text/x-python",
   "name": "python",
   "nbconvert_exporter": "python",
   "pygments_lexer": "ipython3",
   "version": "3.13.0"
  }
 },
 "nbformat": 4,
 "nbformat_minor": 2
}
