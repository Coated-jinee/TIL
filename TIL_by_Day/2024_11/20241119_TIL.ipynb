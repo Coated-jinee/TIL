{
 "cells": [
  {
   "cell_type": "markdown",
   "metadata": {},
   "source": [
    "### 베이직반: 오늘의 파이썬 (11월 15일자 문제)"
   ]
  },
  {
   "cell_type": "markdown",
   "metadata": {},
   "source": [
    "#### 등차수열의 특정한 항만 더하기\n",
    "**문제 설명**\n",
    "두 정수 a, d와 길이가 n인 boolean 배열 included가 주어집니다. 첫째항이 a, 공차가 d인 등차수열에서 included[i]가 i + 1항을 의미할 때, 이 등차수열의 1항부터 n항까지 included가 true인 항들만 더한 값을 return 하는 solution 함수를 작성해 주세요."
   ]
  },
  {
   "cell_type": "markdown",
   "metadata": {},
   "source": [
    "**확인하고 넘어가야 하는 개념**\n",
    "1. 길이가 n인 boolean 배열(included)에 대한 의도와 역할\n",
    "- included 배열은 특정 항목만 선택적으로 포함할지를 결정하기 위해 제공됨\n",
    "- included 배열의 길이는 n이고, 이 배열은 등차수열의 각 항목에 대해 **그 항목을 더할지 말지 결정**한다.\n",
    "- True면 해당 항목을 더한다는 의미\n",
    "- False면 해당 항목을 무시한다는 의미\n",
    "\n",
    "예를 들어: \n",
    "- 등차수열이 a = 3, d = 2 라면 3,5,7,9\n",
    "- included = [True, False, True, False]라면 3,7만 더하고 5,9는 무시\n",
    "이 배열의 목적은 등차수열의 특정 항만 선택해서 더하도록 제어하기 위함이다.\n",
    "\n",
    "2. 왜 included[i]가 i + 1항을 의미하는지\n",
    "- 문제의 등차수열에서 첫째항은 a, 둘째항은 a + d, 셋째 항은 a + 2d, 넷째 항은 a +3d 이렇게 i + 1번째 항은 a + ( i * d)로 표현된다. \n",
    "- included[i]는 리스트의 인덱스로 항목을 제어하는데, Python에서는 인덱스가 0부터 시작한다. \n",
    "예를 들어: \n",
    "    - included[0] -> 첫 번째 항 (a)\n",
    "    - included[1] -> 두 번째 항 (a + d)\n",
    "    - included[2] -> 세 번째 항 (a + 2d)\n",
    "    즉, included[i]는 i + 1번째 항을 포함할지 말지를 결정하는 것이다.\n",
    "\n",
    "예시: \n",
    "만약:\n",
    "- a = 3, d = 2 \n",
    "- included = [True, False, True, False]\n",
    "이 경우:\n",
    "- included[0]이 True니까 첫 번째 항 3을 포함.\n",
    "- included[1]이 False니까 두 번째 항 5는 제외.\n",
    "- included[2]이 True니까 세 번째 항 7을 포함.\n",
    "- included[3]이 False니까 네 번째 항 9는 제외.\n",
    "\n",
    "문제를 단순화해서 생각해보자. 단계별로 어떤걸 해야할까?"
   ]
  },
  {
   "cell_type": "markdown",
   "metadata": {},
   "source": []
  },
  {
   "cell_type": "markdown",
   "metadata": {},
   "source": [
    "#### **주사위 게임2**\n",
    "문제 설명: 1부터 6까지 숫자가 적힌 주사위가 세 개 있습니다. 세 주사위를 굴렸을 때 나온 숫자를 각각 a, b, c라고 했을 때 얻는 점수는 다음과 같습니다.\n",
    "\n",
    "세 숫자가 모두 다르다면 a + b + c 점을 얻습니다.\n",
    "세 숫자 중 어느 두 숫자는 같고 나머지 다른 숫자는 다르다면 (a + b + c) × (a2 + b2 + c2 )점을 얻습니다.\n",
    "세 숫자가 모두 같다면 (a + b + c) × (a2 + b2 + c2 ) × (a3 + b3 + c3 )점을 얻습니다.\n",
    "세 정수 a, b, c가 매개변수로 주어질 때, 얻는 점수를 return 하는 solution 함수를 작성해 주세요."
   ]
  },
  {
   "cell_type": "code",
   "execution_count": null,
   "metadata": {},
   "outputs": [],
   "source": [
    "def solution(a, b, c):\n",
    "    answer = 0\n",
    "    if a != b and b != c and a != c:\n",
    "        answer += a + b + c\n",
    "        return answer\n",
    "    elif (a == b and b != c) or (a == c and b != c) or (b == c and a != b):\n",
    "        answer += (a + b + c) * (a**2 + b**2 + c**2)\n",
    "        return answer\n",
    "    else: \n",
    "        answer += (a + b + c) * (a**2 + b**2 + c**2) * (a ** 3 + b **3 + c ** 3 )\n",
    "    return answer"
   ]
  },
  {
   "cell_type": "markdown",
   "metadata": {},
   "source": [
    "이 문제는 조건문을 쓰는 문제로, 문제 자체는 어렵지 않았는데, 코드의 가독성을 좋게 쓰는게 중요할 것 같아보였다. 일단 테스트 코드는 합격했는데 gpt에게 조언을 받아보았는데, 2가지 문제가 있었다. \n",
    "\n",
    "문제1: 마지막 else 블록의 의미\n",
    "else 블록은 elif 조건을 만족하지 않을 경우 실행된다. 하지만 현재 코드의 마지막 else 부분은 논리적으로 잘못된 값이 반환될 가능성이 있다.\n",
    "    else의 계산 로직이 특별한 조건을 만족하지 않아도 실행되므로 의도하지 않은 결과를 반환할 수 있다.\n",
    "수정: else 블록이 정확히 어떤 경우를 처리하는지 명확히 정의해야한다.\n",
    "\n",
    "문제2: 중복된 return\n",
    "함수의 여러 곳에서 중복적으로 return을 사용하고 있다. 이는 코드의 가독성을 떨어뜨리고, 함수가 의도보다 일찍 종료될 가능성을 높인다. \n",
    "수정: 조건마다 return을 사용하는 대신, answer를 계산한 뒤 한 번만 반환한다. \n",
    "\n",
    "아래는 수정된 코드이다."
   ]
  },
  {
   "cell_type": "code",
   "execution_count": null,
   "metadata": {},
   "outputs": [],
   "source": [
    "def solution(a, b, c):\n",
    "    answer = 0\n",
    "    if a != b and b != c and a != c:  # 모든 값이 서로 다를 때\n",
    "        answer = a + b + c\n",
    "    elif (a == b and b != c) or (a == c and b != c) or (b == c and a != b):  # 두 값이 같고 하나는 다를 때\n",
    "        answer = (a + b + c) * (a**2 + b**2 + c**2)\n",
    "    else:  # 모든 값이 같을 때\n",
    "        answer = (a + b + c) * (a**2 + b**2 + c**2) * (a**3 + b**3 + c**3)\n",
    "    return answer"
   ]
  },
  {
   "cell_type": "markdown",
   "metadata": {},
   "source": [
    "그리고 가독성을 더 높인 코드를 추가로 요청하였다. 안그래도 코드를 쓰면서 계산은 먼저 해둘까 싶었는데 (변수 지정)\n",
    "GPT가 그부분을 딱 잡아서 표현해주었다.\n",
    "아래의 코드는 **1. 반복되는 계산 분리**와, **2. 명확한 조건 구분**, **3. 직관적인 변수 이름**으로 가독성을 높였다."
   ]
  },
  {
   "cell_type": "code",
   "execution_count": null,
   "metadata": {},
   "outputs": [],
   "source": [
    "def solution(a, b, c):\n",
    "    # 세 숫자의 합\n",
    "    sum_of_values = a + b + c\n",
    "    # 세 숫자의 제곱의 합\n",
    "    sum_of_squares = a**2 + b**2 + c**2\n",
    "    # 세 숫자의 세제곱의 합\n",
    "    sum_of_cubes = a**3 + b**3 + c**3\n",
    "\n",
    "    # 모든 값이 서로 다른 경우\n",
    "    if a != b and b != c and a != c:\n",
    "        return sum_of_values\n",
    "\n",
    "    # 두 값이 같고 나머지 하나가 다른 경우\n",
    "    elif (a == b and b != c) or (a == c and b != c) or (b == c and a != b):\n",
    "        return sum_of_values * sum_of_squares\n",
    "\n",
    "    # 모든 값이 같은 경우\n",
    "    else:\n",
    "        return sum_of_values * sum_of_squares * sum_of_cubes"
   ]
  },
  {
   "cell_type": "markdown",
   "metadata": {},
   "source": [
    "#### 원소들의 곱과 합\n",
    "**문제 설명:** 정수가 담긴 리스트 num_list가 주어질 때, 모든 원소들의 곱이 모든 원소들의 합의 제곱보다 작으면 1을 크면 0을 return하도록 solution 함수를 완성해주세요."
   ]
  },
  {
   "cell_type": "markdown",
   "metadata": {},
   "source": [
    "모든 원소들의 곱과 모든 원소들의 합의 제곱을 비교하기 라는 아주 단순한 문제인데.. (어려움)\n",
    "\n",
    "리스트의 모든 원소들의 곱을 넣을 변수를 element_product 이라고 정의\n",
    "리스트의 모든 원소들의 합의 제곱을 넣을 변수 element_sum 이라고 정의\n",
    "\n",
    "element_sum = sum(num_list) ** 2 이게 되는지 물어봤음\n",
    "element_product *= num_list 이건 안된다고 함. (for loof로 하나씩 순회하기)\n",
    "\n",
    "그리고 조건문 추가해주기"
   ]
  },
  {
   "cell_type": "code",
   "execution_count": null,
   "metadata": {},
   "outputs": [],
   "source": [
    "def solution(num_list):\n",
    "    element_sum = sum(num_list) ** 2\n",
    "    element_product = 1\n",
    "    for num in num_list:\n",
    "        element_product *= num\n",
    "    if element_product < element_sum:\n",
    "        return 1\n",
    "    else:\n",
    "        return 0"
   ]
  },
  {
   "cell_type": "markdown",
   "metadata": {},
   "source": [
    "#### 이어 붙인 수\n",
    "**문제 설명**\n",
    "정수가 담긴 리스트 num_list가 주어집니다. num_list의 홀수만 순서대로 이어 붙인 수와 짝수만 순서대로 이어 붙인 수의 합을 return하도록 solution 함수를 완성해주세요."
   ]
  },
  {
   "cell_type": "markdown",
   "metadata": {},
   "source": [
    "빈 리스트를 만들어서 홀수만 순서대로 이어붙인 수를 넣고, 짝수만 순서대로 이어붙인 수를 넣는건 어때?\n",
    "\n",
    "좋은 접근 방식이야! 빈 리스트를 만들어 홀수와 짝수를 나눠 담는 건 이해하기 쉽고 직관적이야. 다만, 이어 붙인 수를 다루기 위해 리스트보다는 문자열을 사용하는 게 더 편리할 수 있어.\n",
    "\n",
    "예를 들어, 홀수와 짝수를 따로 문자열로 만들어 이어 붙인 뒤, 이를 정수로 변환해서 합산하면 돼.\n",
    "\n",
    "힌트:\n",
    "\t1.\t홀수와 짝수를 분리해서 저장할 문자열 변수를 각각 만들기.\n",
    "\t2.\t리스트의 숫자를 하나씩 확인하며 홀수면 홀수 문자열에 추가, 짝수면 짝수 문자열에 추가.\n",
    "\t3.\t최종적으로 두 문자열을 정수로 변환해서 더하기.\n",
    "\n",
    "이 방식으로 시도해보고 코드 작성해봐! \n",
    "\n",
    "홀수와 짝수를 구분하는 조건문을 추가해서 넣어보기 (이건 알고 있음)"
   ]
  },
  {
   "cell_type": "code",
   "execution_count": null,
   "metadata": {},
   "outputs": [],
   "source": [
    "def solution(num_list):\n",
    "    odds_result = \"\"\n",
    "    even_result = \"\"\n",
    "    for num in num_list:\n",
    "        if num % 2 != 0: #홀수 조건\n",
    "            odds_result += str(num)\n",
    "        else:\n",
    "            even_result += str(num)\n",
    "    return int(odds_result) + int(even_result)"
   ]
  },
  {
   "cell_type": "markdown",
   "metadata": {},
   "source": [
    "#### 베이직반 수업: 코드풀이, 리스트 컴프리헨션"
   ]
  }
 ],
 "metadata": {
  "language_info": {
   "name": "python"
  }
 },
 "nbformat": 4,
 "nbformat_minor": 2
}
