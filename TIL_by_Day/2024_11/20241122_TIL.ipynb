{
 "cells": [
  {
   "cell_type": "markdown",
   "metadata": {},
   "source": [
    "# 2024년 11월 22일 금요일 (Friday, November 22, 2024)\n",
    "## Streamlit 특강 1\n",
    "\n",
    "### Streamlit 공식문서\n",
    "https://docs.streamlit.io/\n",
    "\n",
    "streamlit 튜토리얼을 위한 사전 준비\n",
    "- 가상환경\n",
    "- 튜토리얼을 진행할 폴더\n",
    "- IDE (예시: VSCode) .py만 가능함 .ipynb는 안된다.\n",
    "\n",
    "1. 가상환경 켜기\n",
    "2. Streamlit 설치\n",
    "3. .py 문서 만들기 (이름은 뭐 main.py 이나 app.py 같은거)\n",
    "\n",
    "### 이제는 진짜 외워야 할 것 같은 터미널코드 - [가상환경 만들기 / 켜기 / 끄기]\n",
    "- 내 기준으로 venv는 잘 안쓰고 conda로 관리하는 걸 선호하기 때문에 conda 코드 위주로 외우면 됨\n",
    "- 지금은 새로운 실습을 계속 하기 때문에 실습용 가상환경을 계속 만드는 중\n",
    "\n",
    "1. 가상환경 새로 만들기: `conda create --name jinee` # 이러면 파이썬은 알아서 최신 안정 버전으로 설치됨\n",
    "2. 가상환경 켜기: `conda activate jinee`\n",
    "3. 가상환경 끄기: `conda deactivate jinee`\n",
    "4. 가상환경 확인: `conda env list`\n",
    "   - 이 기능 때문에 conda를 쓰고 있음"
   ]
  },
  {
   "cell_type": "markdown",
   "metadata": {},
   "source": []
  }
 ],
 "metadata": {
  "language_info": {
   "name": "python"
  }
 },
 "nbformat": 4,
 "nbformat_minor": 2
}
