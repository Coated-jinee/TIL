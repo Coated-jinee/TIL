{
 "cells": [
  {
   "cell_type": "markdown",
   "metadata": {},
   "source": [
    "#  2024년 11월 7일 목요일\n",
    "\n",
    "### R programming\n",
    "- 과거에 배울 땐 그러려니 했는데, Python 까지 배우고 복습하니까 특이해보이는 문법 구조\n",
    "\n",
    "변수를 할당할 때 <-를 사용한다. \n",
    "**예시:** x <-5\n",
    "함수의 인자는 그대로 = 사용\n",
    "**예시:** mean(x = c(1, 2, 3))\n",
    "\n",
    "elif 대신 else if를 사용한다."
   ]
  },
  {
   "cell_type": "markdown",
   "metadata": {},
   "source": [
    "### 베이직반:오늘의 파이썬 문제풀이\n",
    "#### 대소문자반전(Python)\n",
    ".swapcase()\n",
    "\n",
    "#### a, b 를 input으로 받고 a + b = n 출력하기 (오답)\n",
    "a, b = map(int, input().strip().split())\n",
    "print(f'{a} + {b} = {a + b}')\n",
    "\n",
    "#### 오답노트\n",
    "print((f'{a} + {b} =' a + b) 라고 썼음\n",
    "일단 괄호도 하나 안닫..았다기보다 쓸데없이 하나 더 사용됨.\n",
    "a + b 까지 f'로 묶을 생각을 못함 \n",
    "f 문자열을 사용할 때는 모든 변수를 하나의 문자열로 감싸야 한다."
   ]
  }
 ],
 "metadata": {
  "language_info": {
   "name": "python"
  }
 },
 "nbformat": 4,
 "nbformat_minor": 2
}
