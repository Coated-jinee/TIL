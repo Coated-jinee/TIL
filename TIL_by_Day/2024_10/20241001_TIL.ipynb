{
 "cells": [
  {
   "cell_type": "markdown",
   "metadata": {},
   "source": [
    "# 2024년 12월-01 화요일 (Tuesday, October 1, 2024)"
   ]
  },
  {
   "cell_type": "markdown",
   "metadata": {},
   "source": [
    "#### 1. Function: Default parameter\n",
    "**Default parameter**는 함수에서 특정 인수의 기본값을 미리 설정해두는 매개변수이다.\n",
    "이 매개변수는 함수 정의 시 인수 목록의 끝에 위치시킨다. 인수를 전달하지 않더라더 기본값이 적용되어 실행된다느 점을 강조한다. "
   ]
  },
  {
   "cell_type": "code",
   "execution_count": null,
   "metadata": {},
   "outputs": [],
   "source": [
    "def greet(name=\"손님\"): #기본값으로 \"손님\"을 지정하였음\n",
    "    return f\"안녕하세요, {name}님!\"\n",
    "\n",
    "print(greet())          # 안녕하세요, 손님님!\n",
    "print(greet(\"Alice\"))   # 안녕하세요, Alice님!"
   ]
  },
  {
   "cell_type": "markdown",
   "metadata": {},
   "source": [
    "**다중 기본 값**\n",
    "\n",
    "순서상 기본 값이 없는 매개변수는 앞에 위치 시킨다."
   ]
  },
  {
   "cell_type": "code",
   "execution_count": null,
   "metadata": {},
   "outputs": [],
   "source": [
    "def greet_age(age, name=\"강예진\"):\n",
    "    return f\"안녕하세요, {name}님! {age}살 이시군요\" \n",
    "\n",
    "print(greet_age(10,\"ALice\")) #값을 2개 다 전달한 경우\n",
    "print(greet_age(10)) #10살만 전달 한 경우\n",
    "print(greet_age(\"강예진\")) #값이 하나만 전달되었으면, 기본 값이 없는 매개변수에 전달 됨. 그래서 이름이지만 앞에 있는 변수인 age에 전달됨"
   ]
  },
  {
   "cell_type": "markdown",
   "metadata": {},
   "source": [
    "**Variable-Length Argument: 가변 매개변수**\n",
    "\n",
    "전달되는 실제 값(인수)의 가변성을 강조함\n",
    "\n",
    "*args\n",
    "\n",
    "**kargs: 키워드 인수의 딕셔너리를 받는다. 함수에 전달되는 인수의 이름과 값을 딕셔너리 형태로 처리한다."
   ]
  },
  {
   "cell_type": "code",
   "execution_count": null,
   "metadata": {},
   "outputs": [],
   "source": [
    "def test_greet(**kwargs):\n",
    "    print(kwargs)\n",
    "    return True\n",
    "    \n",
    "test_greet(name = \"강예진\", age = 30) #True가 return됨"
   ]
  },
  {
   "cell_type": "markdown",
   "metadata": {},
   "source": [
    "#### 2. Module: import, from\n",
    "모듈이란 python에서 관련된 함수, 클래스, 변수 등을 하나의 파일에 모아놓은 코드 묶음 이다.\n",
    "\n",
    "모듈은 각기 다른 name space를 가지므로, 이름 충돌을 피할 수 있다.\n",
    "\n",
    "간단히 말하면, python 파일(.py) 하나가 하나의 모듈이 된다.\n"
   ]
  },
  {
   "cell_type": "code",
   "execution_count": null,
   "metadata": {},
   "outputs": [],
   "source": [
    "import math as m #math 모듈 전체를 가져오고 m이라는 별칭을 붙임. m으로 호출 가능해진다.\n",
    "\n",
    "result = m.sqrt(16)\n",
    "print(result)"
   ]
  },
  {
   "cell_type": "markdown",
   "metadata": {},
   "source": [
    "##### 모듈에서 특정 함수만 가져오기"
   ]
  },
  {
   "cell_type": "code",
   "execution_count": null,
   "metadata": {},
   "outputs": [],
   "source": [
    "from math import sqrt #math 모듈에서 특정함수(sqrt)만 가져옴.\n",
    "sqrt(16)\n",
    "\n",
    "from math import * #math 모듈에 있는 모든 함수와 상수를 가져옴. 직접 이름만으로 사용 가능. \n",
    "#코드가 짧고 간결해지지만 이름 충돌 가능성 있음\n",
    "result = sqrt(16)  # 모듈 이름 없이 sqrt 함수를 바로 사용\n",
    "pi_value = pi      # 모듈 이름 없이 pi 값을 바로 사용\n",
    "\n",
    "import math #math 모듈 전체를 불러옴. 모듈을 사용할 때는 항상 모듈 이름을 명시해야함\n",
    "\n",
    "result = math.sqrt(16)  # math 모듈의 sqrt 함수를 사용\n",
    "pi_value = math.pi      # math 모듈의 pi 값을 사용"
   ]
  },
  {
   "cell_type": "markdown",
   "metadata": {},
   "source": [
    "#### 3. Package: 모듈의 모음\n",
    "패키지는 일반적으로 다음과 같은 디렉터리 구조를 가진다.\n",
    "\n",
    "패키지 안에는 __init__.py가 필수로 들어가있어야한다."
   ]
  },
  {
   "cell_type": "code",
   "execution_count": null,
   "metadata": {},
   "outputs": [],
   "source": [
    "mypackage/            # 패키지의 최상위 디렉터리\n",
    "    __init__.py       # 패키지를 초기화하는 파일 (필수)\n",
    "    module1.py        # 첫 번째 모듈\n",
    "    module2.py        # 두 번째 모듈\n",
    "    subpackage/       # 서브 패키지 (하위 패키지)\n",
    "        __init__.py   # 서브 패키지 초기화 파일\n",
    "        submodule.py  # 서브 패키지 내의 모듈"
   ]
  },
  {
   "cell_type": "markdown",
   "metadata": {},
   "source": [
    "##### 패키지 설치 (터미널 사용)\n",
    "\n",
    "**pip**를 사용하면, Python 패키지 인덱스(PyPI)에서 원하는 패키지를 쉽게 설치 할 수 있다. \n",
    "**conda**가 깔려있다면 conda도 사용 가능하다."
   ]
  },
  {
   "cell_type": "code",
   "execution_count": null,
   "metadata": {},
   "outputs": [],
   "source": [
    "# 터미널에 입력해야 한다\n",
    "pip install 패키지이름           # 패키지 설치\n",
    "pip install 패키지이름 --upgrade # 패키지 업그레이드\n",
    "pip uninstall 패키지이름         # 패키지 제거\n",
    "\n",
    "conda install pytorch -c pytorch # conda를 사용 한 패키지 설치\n"
   ]
  },
  {
   "cell_type": "code",
   "execution_count": null,
   "metadata": {},
   "outputs": [],
   "source": [
    "#패키지 불러오기는 import나 from import를 사용하면 된다.\n",
    "import pandas as pd\n",
    "import numpy as np\n",
    "from sklearn.linear_model import LinearRegression #from으로 LinearRegression 패키지의 일부만 가져왔다. 이렇게 하면 용량에 도움됨"
   ]
  },
  {
   "cell_type": "markdown",
   "metadata": {},
   "source": [
    "#### 4. 가상 환경과 패키지 관리\n",
    "가상 환경(Virtual Environment)은 프로젝트 별로 독립 된 Python 실행 환경을 만드는 도구이다.\n",
    "\n",
    "가상 환경을 사용하면, 프로젝트마다 서로 다른 패키지 버전을 설치하고 관리할 수 있어, 패키지 간의 충돌을 방지할 수 있다. \n",
    "\n",
    "#### 가상 환경 생성 및 활성화- 터미널 사용 \n",
    "1. 가상 환경 생성하기\n",
    "2. 가상 환경 활성화 / 비활성화하기\n",
    "3. 가상환경의 패키지 관리 하기"
   ]
  },
  {
   "cell_type": "markdown",
   "metadata": {},
   "source": [
    "##### Conda 가상환경 생성하기\n",
    "Conda 가상환경은 프로젝트 별로 독립적인 패키지와 Python 버전을 유지할 수 있게 해준다. 가상환경을 생성하려면 아래와 같은 명령어를 사용한다:"
   ]
  },
  {
   "cell_type": "code",
   "execution_count": null,
   "metadata": {},
   "outputs": [],
   "source": [
    "# 터미널에 입력해야 한다\n",
    "conda create --name my_env python=3.8 "
   ]
  },
  {
   "cell_type": "markdown",
   "metadata": {},
   "source": [
    "- --name 옵션으로 환경 이름을 지정한다. 예를 들어, my_env라는 이름으로 가상환경이 생성된다.\n",
    "- python=3.8는 해당 환경에 Python 3.8 버전을 설치한다. 버전을 지정하지 않으면 기본 Python 버전이 설치된다."
   ]
  },
  {
   "cell_type": "markdown",
   "metadata": {},
   "source": [
    "##### Conda 가상환경 활성화하기\n",
    "생성한 가상환경을 활성화하려면 아래 명령어를 입력한다:"
   ]
  },
  {
   "cell_type": "code",
   "execution_count": null,
   "metadata": {},
   "outputs": [],
   "source": [
    "# 터미널에 입력해야 한다\n",
    "conda activate my_env"
   ]
  },
  {
   "cell_type": "markdown",
   "metadata": {},
   "source": [
    "이 명령어로 my_env 가상환경이 활성화되며, (my_env)와 같은 프롬프트가 나타나 가상환경이 활성화되었음을 표시한다.\n",
    "\n",
    "Conda 가상환경 비활성화하기\n",
    "\n",
    "가상환경을 비활성화하여 기본 환경으로 돌아가려면 다음과 같이 입력한다:"
   ]
  },
  {
   "cell_type": "code",
   "execution_count": null,
   "metadata": {},
   "outputs": [],
   "source": [
    "# 터미널에 입력해야 한다\n",
    "conda deactivate"
   ]
  },
  {
   "cell_type": "markdown",
   "metadata": {},
   "source": [
    "이 명령어를 통해 활성화된 가상환경이 종료되고, 기본 환경으로 돌아간다."
   ]
  },
  {
   "cell_type": "markdown",
   "metadata": {},
   "source": [
    "##### Conda 패키지 관리하기\n",
    "\n",
    "Conda를 통해 패키지를 설치하거나 제거하는 방법은 간단하다."
   ]
  },
  {
   "cell_type": "markdown",
   "metadata": {},
   "source": [
    "##### 1. 패키지 설치하기 (가상환경이거나 나왔거나 설치하는 명령어는 동일함)\n",
    "기본적으로 터미널에 입력해야 한다."
   ]
  },
  {
   "cell_type": "code",
   "execution_count": null,
   "metadata": {},
   "outputs": [],
   "source": [
    "conda install package_name"
   ]
  },
  {
   "cell_type": "markdown",
   "metadata": {},
   "source": [
    "예를 들어, numpy를 설치하려면 conda install numpy라고 입력하면 된다. 특정 버전을 설치하려면 package_name=버전번호 형식으로 입력한다."
   ]
  },
  {
   "cell_type": "markdown",
   "metadata": {},
   "source": [
    "##### 2. 패키지 제거하기"
   ]
  },
  {
   "cell_type": "code",
   "execution_count": null,
   "metadata": {},
   "outputs": [],
   "source": [
    "conda remove package_name"
   ]
  },
  {
   "cell_type": "markdown",
   "metadata": {},
   "source": [
    "가상환경에서 package_name 패키지를 삭제할 때 사용한다."
   ]
  },
  {
   "cell_type": "markdown",
   "metadata": {},
   "source": [
    "##### 3. 패키지 업데이트하기"
   ]
  },
  {
   "cell_type": "code",
   "execution_count": null,
   "metadata": {},
   "outputs": [],
   "source": [
    "conda update package_name"
   ]
  },
  {
   "cell_type": "markdown",
   "metadata": {},
   "source": [
    "이미 설치된 패키지를 최신 버전으로 업데이트할 수 있다. 모든 패키지를 업데이트하려면 conda update --all을 입력한다.\n",
    "\n",
    "여기서 주의해야 할 점은, 가상환경을 만들었다는 건 패키지 끼리의 버전 충돌을 막기 위해 특정 패키지 버전을 설치했을 가능성도 있다. 그래서 가상환경에서의 패키지 업데이트는 신중하게 선택하는 편이 좋음! "
   ]
  },
  {
   "cell_type": "markdown",
   "metadata": {},
   "source": [
    "##### 4. 환경에 설치된 패키지 목록 확인하기"
   ]
  },
  {
   "cell_type": "code",
   "execution_count": null,
   "metadata": {},
   "outputs": [],
   "source": [
    "conda list"
   ]
  },
  {
   "cell_type": "markdown",
   "metadata": {},
   "source": [
    "현재 활성화된 가상환경에 설치된 모든 패키지를 확인할 수 있다."
   ]
  },
  {
   "cell_type": "markdown",
   "metadata": {},
   "source": [
    "##### 5. 환경 파일을 통해 패키지 설정 관리하기\n",
    "Conda는 환경에 설치된 패키지를 파일로 저장하고 공유할 수 있다.\n",
    "\n",
    "- 환경 저장하기: 현재 환경을 파일로 저장할 때 export 명령어를 사용한다."
   ]
  },
  {
   "cell_type": "code",
   "execution_count": null,
   "metadata": {},
   "outputs": [],
   "source": [
    "conda env export > environment.yml"
   ]
  },
  {
   "cell_type": "markdown",
   "metadata": {},
   "source": [
    "이 파일(environment.yml)은 현재 환경에 설치된 모든 패키지와 버전을 기록한다."
   ]
  },
  {
   "cell_type": "markdown",
   "metadata": {},
   "source": [
    "- 환경 복원하기: 다른 시스템에서 같은 환경을 재구성할 때 environment.yml 파일을 사용하여 설치할 수 있다."
   ]
  },
  {
   "cell_type": "code",
   "execution_count": null,
   "metadata": {},
   "outputs": [],
   "source": [
    "conda env create -f environment.yml"
   ]
  },
  {
   "cell_type": "markdown",
   "metadata": {},
   "source": [
    "**요약**\n",
    "\n",
    "- 가상환경 생성: conda create --name my_env python=3.8\n",
    "- 가상환경 활성화/비활성화: conda activate my_env / conda deactivate\n",
    "- 패키지 설치/삭제/업데이트: conda install package_name / conda remove package_name / conda update package_name\n",
    "- 패키지 목록 확인: conda list\n",
    "- 환경 파일로 관리하기: conda env export > environment.yml (저장) / conda env create -f environment.yml (복원)\n",
    "\n",
    "이렇게 Conda 명령어를 사용해 가상환경과 패키지를 체계적으로 관리할 수 있다."
   ]
  }
 ],
 "metadata": {
  "language_info": {
   "name": "python"
  }
 },
 "nbformat": 4,
 "nbformat_minor": 2
}
