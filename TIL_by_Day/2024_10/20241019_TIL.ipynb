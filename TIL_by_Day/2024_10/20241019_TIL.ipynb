{
 "cells": [
  {
   "cell_type": "markdown",
   "metadata": {},
   "source": [
    "### Python library: Pandas 알아보기"
   ]
  },
  {
   "cell_type": "markdown",
   "metadata": {},
   "source": [
    "Pandas는 Python에서 데이터 분석과 데이터 조작을 위한 강력한 라이브러리로, 특히 데이터 사이언스, 머신러닝, 통계학 분야에서 널리 사용된다. pandas는 데이터 정리, 탐색, 처리 및 분석에 필요한 다양한 기능을 제공하여 효율적으로 데이터를 다룰 수 있게 한다. 이를 통해 pandas는 Python의 대표적인 데이터 처리 도구로 자리잡았다."
   ]
  },
  {
   "cell_type": "markdown",
   "metadata": {},
   "source": [
    "#### pandas의 주요 개념\n",
    "pandas에는 데이터를 다루기 위한 두 가지 핵심 자료구조가 있다:\n",
    "\n",
    "1.\tSeries: 1차원 데이터 구조로, 일반적으로 배열처럼 다루며, 각 값에 대한 인덱스를 가지고 있다. 예를 들어, 단일 열이나 데이터를 나타낼 때 유용하다.\n",
    "2.\tDataFrame: 2차원 데이터 구조로, 엑셀의 표나 데이터베이스의 테이블처럼 행과 열을 가진다. 이 구조는 다양한 데이터 조작 및 분석 작업을 할 수 있게 해준다.\n",
    "\n",
    "#### pandas의 주요 기능\n",
    "pandas는 데이터를 불러오고, 처리하고, 분석하는 다양한 기능을 제공한다. "
   ]
  },
  {
   "cell_type": "markdown",
   "metadata": {},
   "source": [
    "1. **데이터 불러오기 및 저장**\n",
    "pandas는 다양한 형식의 데이터를 불러오고 저장할 수 있다. \n",
    "\n",
    "- **CSV 파일:** pd.read_csv()와 to_csv()\n",
    "- **Excel 파일:** pd.read_excel()과 to_excel()\n",
    "- **SQL 데이터베이스:** pd.read_sql()과 to_sql()\n",
    "- **JSON 파일:** pd.read_json()과 to_json()\n",
    "\n",
    "이 외에도 다양한 데이터 형식을 지원하여 데이터 수집 및 저장을 간편하게 해준다."
   ]
  },
  {
   "cell_type": "markdown",
   "metadata": {},
   "source": [
    "2. **데이터 필터링 및 선택**\n",
    "\n",
    "DataFrame의 데이터를 선택하고 필터링하는 기능은 매우 강력하다.\n",
    "- **loc와 iloc:** loc는 라벨 기반 인덱싱을, iloc는 정수 기반 인덱싱을 제공한다. 이들을 사용해 특정 행, 열을 손쉽게 선택할 수 있다.\n",
    "- **조건부 필터링:** 특정 조건을 기반으로 행을 필터링할 수 있다. 예를 들어, 특정 열의 값이 조건을 만족하는 행만 선택하는 등의 작업이 가능하다."
   ]
  },
  {
   "cell_type": "code",
   "execution_count": null,
   "metadata": {},
   "outputs": [],
   "source": [
    "df = pd.DataFrame({\n",
    "    'Name': ['Alice', 'Bob', 'Charlie'],\n",
    "    'Age': [24, 27, 22],\n",
    "    'City': ['New York', 'Los Angeles', 'Chicago']\n",
    "})\n",
    "\n",
    "# Age가 25 이상인 행 필터링\n",
    "filtered_df = df[df['Age'] >= 25]"
   ]
  },
  {
   "cell_type": "markdown",
   "metadata": {},
   "source": [
    "3. **데이터 정제**\n",
    "pandas는 결측값 처리, 중복 제거, 데이터 변환 등 데이터 정제를 위한 다양한 메서드를 제공한다. \n",
    "- **결측값 처리:** dropna()를 사용해 결측값이 있는 행을 제거하거나, fillna()로 결측값을 특정 값으로 채울 수 있다.\n",
    "- **중복 제거:** drop_duplicates()로 중복된 데이터를 손쉽게 제거할 수 있다.\n",
    "- **데이터 타입 변환:** astype()을 통해 특정 열의 데이터 타입을 변환할 수 있다."
   ]
  },
  {
   "cell_type": "code",
   "execution_count": null,
   "metadata": {},
   "outputs": [],
   "source": [
    "# 결측값을 0으로 채우기\n",
    "df['Age'] = df['Age'].fillna(0)\n",
    "\n",
    "# 중복 제거\n",
    "df = df.drop_duplicates()"
   ]
  },
  {
   "cell_type": "markdown",
   "metadata": {},
   "source": [
    "4. **데이터 집계 및 그룹화**\n",
    "pandas의 groupby() 메서드를 사용하면 데이터를 특정 기준으로 그룹화하여 통계 분석을 할 수 있다.\n",
    "\n",
    "- 예를 들어, 고객 데이터를 지역별로 그룹화하여 각 지역의 평균 구매액을 계산할 수 있다."
   ]
  },
  {
   "cell_type": "code",
   "execution_count": null,
   "metadata": {},
   "outputs": [],
   "source": [
    "# 지역별 평균 나이 계산\n",
    "grouped_df = df.groupby('City')['Age'].mean()"
   ]
  },
  {
   "cell_type": "markdown",
   "metadata": {},
   "source": [
    "5. 데이터 병합 및 결합\n",
    "pandas는 SQL의 JOIN 기능처럼 데이터를 병합하고 결합할 수 있는 다양한 방법을 제공한다.\n",
    "\n",
    "- merge(): 두 DataFrame을 특정 열을 기준으로 병합한다.\n",
    "- concat(): 여러 DataFrame을 상하 혹은 좌우로 이어붙일 수 있다.\n",
    "- join(): 인덱스를 기준으로 병합할 때 사용한다."
   ]
  },
  {
   "cell_type": "code",
   "execution_count": null,
   "metadata": {},
   "outputs": [],
   "source": [
    "# 두 데이터프레임 병합 예시\n",
    "df1 = pd.DataFrame({'Name': ['Alice', 'Bob'], 'Age': [24, 27]})\n",
    "df2 = pd.DataFrame({'Name': ['Alice', 'Bob'], 'City': ['New York', 'Los Angeles']})\n",
    "\n",
    "merged_df = pd.merge(df1, df2, on='Name')"
   ]
  },
  {
   "cell_type": "markdown",
   "metadata": {},
   "source": [
    "6. 시계열 데이터 처리\n",
    "pandas는 시계열 데이터 분석에 최적화되어 있으며, 시간 데이터를 쉽게 처리할 수 있다.\n",
    "\n",
    "- 날짜 생성: pd.date_range()로 특정 범위의 날짜 데이터를 생성할 수 있다.\n",
    "- 리샘플링: 시간 데이터를 주별, 월별 등 특정 간격으로 집계할 수 있다.\n",
    "- 시차 계산: 시계열 데이터 간의 시간차를 계산하는 기능도 제공한다."
   ]
  },
  {
   "cell_type": "markdown",
   "metadata": {},
   "source": [
    "#### pandas와 함께 자주 사용되는 라이브러리\n",
    " \n",
    "pandas는 다른 데이터 과학 라이브러리와 함께 자주 사용되며, 그 조합은 데이터 분석 작업을 더욱 강력하게 만든다.\n",
    "\n",
    "- **NumPy:** pandas의 데이터 구조는 NumPy 배열 위에 구축되어 있다. NumPy의 배열 연산을 pandas 데이터 구조와 함께 사용할 수 있어 고성능 데이터 처리가 가능하다.\n",
    "- **Matplotlib 및 Seaborn:** 데이터 시각화를 위해 자주 사용하는 라이브러리로, pandas 데이터프레임에서 바로 그래프를 생성할 수 있다. 예를 들어, df.plot()을 통해 간단하게 그래프를 그릴 수 있다.\n",
    "- **Scikit-Learn:** 머신러닝 라이브러리로, pandas로 전처리한 데이터를 Scikit-Learn의 모델에 바로 사용할 수 있다.\n",
    "- **Statsmodels:** 통계 분석 라이브러리로, pandas와 결합해 시계열 분석, 회귀 분석 등의 통계 작업을 수행할 수 있다."
   ]
  },
  {
   "cell_type": "markdown",
   "metadata": {},
   "source": [
    "#### pandas를 사용할 때 유용한 팁\n",
    "- **데이터 미리보기:** df.head()와 df.tail()을 사용해 데이터프레임의 앞부분과 뒷부분을 미리 볼 수 있다.\n",
    "- **기술 통계:** df.describe()를 통해 각 열에 대한 기본적인 기술 통계(평균, 표준편차, 최소값, 최대값 등)를 얻을 수 있다.\n",
    "- **속도 최적화:** 대용량 데이터를 다룰 때 dtype을 최적화하거나 chunk를 사용하여 메모리 사용을 줄일 수 있다.\n",
    "- **구체적인 열 선택:** df[['column1', 'column2']]와 같은 방법으로 특정 열을 선택해 분석을 집중할 수 있다."
   ]
  },
  {
   "cell_type": "markdown",
   "metadata": {},
   "source": [
    "**결론**\n",
    "\n",
    "pandas는 Python에서 데이터 조작과 분석을 수행하기 위한 매우 강력한 도구로, 직관적이고 사용하기 쉬운 인터페이스를 제공한다. 데이터 처리, 분석, 정제, 시각화 등 거의 모든 데이터 작업에 사용되며, 다른 Python 라이브러리와의 호환성도 뛰어나다. 이러한 이유로 pandas는 데이터 과학자, 데이터 분석가, 머신러닝 엔지니어에게 필수적인 라이브러리로 자리 잡았다."
   ]
  }
 ],
 "metadata": {
  "language_info": {
   "name": "python"
  }
 },
 "nbformat": 4,
 "nbformat_minor": 2
}
