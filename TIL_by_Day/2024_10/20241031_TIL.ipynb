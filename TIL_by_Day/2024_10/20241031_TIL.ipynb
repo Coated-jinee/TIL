{
 "cells": [
  {
   "cell_type": "markdown",
   "metadata": {},
   "source": [
    "# 2024년 10월 31일 목요일\n",
    "\n",
    "오늘이 할로윈이였구나, github의 잔디가 주황색인걸 보고 알아챔"
   ]
  },
  {
   "cell_type": "markdown",
   "metadata": {},
   "source": [
    "![pigure](image/halloween.png)"
   ]
  },
  {
   "cell_type": "markdown",
   "metadata": {},
   "source": [
    "오늘도 TIL이 없다. \n",
    "\n",
    "하루종일 이전에 학습한 내용을 날짜별로 정리 중 이다. 정리할 게 넘친다. \n",
    "정리하면서 또 머리에 주입시키고 있다. 저절로 반복 학습이 되는 중\n",
    "정리한다고 실험을 이틀동안 미뤘는데, 오늘은 진짜 가야한다. 세포 다 죽게 생겼음.\n",
    "오늘도 긴 밤이 될 거 같다. 한달 째 시험기간인 것 같은 이 기분. 바쁜데 재밌다. "
   ]
  }
 ],
 "metadata": {
  "language_info": {
   "name": "python"
  }
 },
 "nbformat": 4,
 "nbformat_minor": 2
}
