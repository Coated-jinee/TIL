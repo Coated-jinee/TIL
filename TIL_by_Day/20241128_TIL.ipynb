{
 "cells": [
  {
   "cell_type": "markdown",
   "metadata": {},
   "source": [
    "# 2024-11-28 목요일"
   ]
  },
  {
   "cell_type": "markdown",
   "metadata": {},
   "source": [
    "# Markdown\n",
    "## **여전히 멋대로 쓰고 있는 마크다운 복습**\n",
    "\n",
    "### TIL 마크다운 작성 가이드\n",
    "\n",
    "1. 큰 주제별로 # 사용\n",
    "   1. 가장 큰 주제를 #로 사용한다. 예를 들어, 날짜, 수업, 회고 등이 큰 주제가 될 수 있음.\n",
    "   2. 큰 주제는 한 문서 안에서 최대 1~3개로 제한하는 것이 좋다.\n",
    "   \n",
    "\n",
    "2. 중간 구분은 ##로 세분화\n",
    "   1. **##는 큰 주제의 하위 주제**를 구분할 때 사용\n",
    "   2. 예를 들어, \"베이직반: 오늘의 파이썬\" 아래에 문제 풀이를 나누고 싶다면 각 문제 풀이를 ##로 나눌 수 있음\n",
    "\n",
    "3. 상세 내용은 ###로 세분화\n",
    "   1. 상세한 설명, 예를 들어 코드 풀이, ChatGPT의 답변, 또는 회고의 세부 내용을 작성할 때 ### 또는 ####를 사용한다.\n",
    "   2. ###는 설명 제목을, ####는 해당 내용의 세부 항목으로 사용한다.\n",
    "\n",
    "- 이를 바탕으로 20241118_TIL 수정 진행중 \n",
    "\n",
    "\n",
    "## **Markdown All in One** \n",
    "- To do list를 체크박스로 관리하고 체크박스 클릭으로 상태 변경을 위해 찾아본 확장인데, 생각보다 더 편리한 기능들이 많아보인다.\n",
    "- 근데 이거 쓰려면 문서를 .md로 만들어야 한다. (마크다운 형식으로)\n"
   ]
  },
  {
   "cell_type": "markdown",
   "metadata": {},
   "source": [
    "# Checkbox\n",
    "## 체크박스에 대한 집착\n",
    "\n",
    "### 요구사항: VSCode에서 마우스로 클릭이 되는 체크박스를 만들고싶어요.\n",
    "### 왜? TIL 쓰면서 To do list를 관리하고 싶음\n",
    "\n",
    "**방법1:** HTML과 JavaScript 사용하기\n",
    "\n",
    "Jupyter Notebook의 Markdown 셀에서 HTML과 JavaScript를 활용하여 체크박스를 클릭 가능한 형태로 구현할 수 있음\n",
    "\n",
    "**결과:** \n",
    "- 체크박스가 나타나며, 마우스 클릭으로 상태를 변경할 수 있음\n",
    "- 상태 변경은 브라우저 상에서 동작하지만 Jupyter Notebook에 데이터로는 저장되지는 않음"
   ]
  },
  {
   "cell_type": "markdown",
   "metadata": {},
   "source": [
    "<script>\n",
    "  function toggleCheckbox(id) {\n",
    "    const checkbox = document.getElementById(id);\n",
    "    checkbox.checked = !checkbox.checked;\n",
    "  }\n",
    "</script>\n",
    "\n",
    "<input type=\"checkbox\" id=\"task1\" onclick=\"toggleCheckbox('task1')\"> 할 일 1<br>\n",
    "<input type=\"checkbox\" id=\"task2\" onclick=\"toggleCheckbox('task2')\" checked> 완료된 일"
   ]
  },
  {
   "cell_type": "markdown",
   "metadata": {},
   "source": [
    "**방법2:** ipywideget 사용 (추천)\n",
    "\n",
    "Python 코드 셀에서 ipywidgets를 사용하여 체크박스를 만들고 상태를 동적으로 관리할 수 있음\n",
    "\n",
    "ipywidegets을 설치해야함"
   ]
  },
  {
   "cell_type": "raw",
   "metadata": {
    "vscode": {
     "languageId": "raw"
    }
   },
   "source": [
    "pip install ipywidgets"
   ]
  },
  {
   "cell_type": "code",
   "execution_count": 1,
   "metadata": {},
   "outputs": [
    {
     "data": {
      "application/vnd.jupyter.widget-view+json": {
       "model_id": "2b868da318484f1f9226f5bade3ce82f",
       "version_major": 2,
       "version_minor": 0
      },
      "text/plain": [
       "VBox(children=(Checkbox(value=False, description='할 일 1'), Checkbox(value=True, description='완료된 일')))"
      ]
     },
     "metadata": {},
     "output_type": "display_data"
    },
    {
     "data": {
      "application/vnd.jupyter.widget-view+json": {
       "model_id": "4a9932b2972943bdb474077cd22ff7df",
       "version_major": 2,
       "version_minor": 0
      },
      "text/plain": [
       "interactive(children=(Output(),), _dom_classes=('widget-interact',))"
      ]
     },
     "metadata": {},
     "output_type": "display_data"
    },
    {
     "data": {
      "text/plain": [
       "<function __main__.show_status()>"
      ]
     },
     "execution_count": 1,
     "metadata": {},
     "output_type": "execute_result"
    }
   ],
   "source": [
    "from ipywidgets import Checkbox, VBox, interact\n",
    "\n",
    "# 체크박스 생성\n",
    "task1 = Checkbox(value=False, description='할 일 1')\n",
    "task2 = Checkbox(value=True, description='완료된 일')\n",
    "\n",
    "# 체크박스 표시\n",
    "display(VBox([task1, task2]))\n",
    "\n",
    "# 체크박스 상태 출력 함수\n",
    "def show_status():\n",
    "    print(f\"할 일 1 상태: {'완료' if task1.value else '미완료'}\")\n",
    "    print(f\"완료된 일 상태: {'완료' if task2.value else '미완료'}\")\n",
    "\n",
    "# 상태 확인\n",
    "interact(show_status)"
   ]
  },
  {
   "cell_type": "markdown",
   "metadata": {},
   "source": [
    "## 체크박스에 대한 집착2\n",
    "### 요구사항:\n",
    "- 완료, 진행중, 미완료로 나누고 싶음\n",
    "- 체크박스를 3번 클릭하면 완료, 진행중, 미완료 상태로 변하고 이걸 단순하게 박스안의 표시로 구분 하고 싶음\n",
    "- 드롭 다운 X, 그냥 박스 안의 마우스 클릭으로만! \n",
    "\n",
    "### 결과\n",
    "- 박스안의 표시로 구분하는 건 생각보다 어려움. 색으로 구분하는 게 조금 나은 듯 해서 색으로 구분함"
   ]
  },
  {
   "cell_type": "code",
   "execution_count": 2,
   "metadata": {},
   "outputs": [
    {
     "data": {
      "application/vnd.jupyter.widget-view+json": {
       "model_id": "27e17907082a4a2d995baa32a6fe9693",
       "version_major": 2,
       "version_minor": 0
      },
      "text/plain": [
       "VBox(children=(Button(button_style='primary', description='Primary', style=ButtonStyle()), Button(button_style…"
      ]
     },
     "metadata": {},
     "output_type": "display_data"
    }
   ],
   "source": [
    "from ipywidgets import Button, VBox, Label\n",
    "from IPython.display import display\n",
    "\n",
    "# 버튼 스타일 정의\n",
    "btn_primary = Button(description=\"Primary\", button_style='primary')\n",
    "btn_success = Button(description=\"Success\", button_style='success')\n",
    "btn_info = Button(description=\"Info\", button_style='info')\n",
    "btn_warning = Button(description=\"Warning\", button_style='warning')\n",
    "btn_danger = Button(description=\"Danger\", button_style='danger')\n",
    "\n",
    "# 표시\n",
    "display(VBox([btn_primary, btn_success, btn_info, btn_warning, btn_danger]))"
   ]
  },
  {
   "cell_type": "markdown",
   "metadata": {},
   "source": [
    "### ipywidgets의 공식 문서\n",
    "https://ipywidgets.readthedocs.io/en/stable/"
   ]
  },
  {
   "cell_type": "code",
   "execution_count": 3,
   "metadata": {},
   "outputs": [
    {
     "data": {
      "application/vnd.jupyter.widget-view+json": {
       "model_id": "8a36b69f448a4cd5a9668022ac27071e",
       "version_major": 2,
       "version_minor": 0
      },
      "text/plain": [
       "HBox(children=(Button(layout=Layout(border_bottom='1px solid black', border_left='1px solid black', border_rig…"
      ]
     },
     "metadata": {},
     "output_type": "display_data"
    }
   ],
   "source": [
    "from ipywidgets import Button, Label, HBox, Layout\n",
    "from IPython.display import display\n",
    "\n",
    "# 상태 정의\n",
    "states = ['미완료', '진행 중', '완료']\n",
    "state_styles = {\n",
    "    '미완료': {'button_color': 'white', 'border_color': 'black'},\n",
    "    '진행 중': {'button_color': '#F6D175', 'border_color': '#F59E4B'},\n",
    "    '완료': {'button_color': '#388136', 'border_color': '#0E4D22'}\n",
    "}\n",
    "\n",
    "# 초기 상태\n",
    "current_state = [0]  # 상태 인덱스\n",
    "\n",
    "# 체크박스 모양의 버튼 생성\n",
    "checkbox = Button(\n",
    "    description='',  # 텍스트 없음 (모양만 체크박스)\n",
    "    layout=Layout(width='13px', height='13px', margin='0px 3px 0px 0px', padding='0px'),  # 크기 및 여백 설정\n",
    "    style={'button_color': state_styles['미완료']['button_color']}\n",
    ")\n",
    "\n",
    "# 상태를 표시할 레이블\n",
    "state_label = Label(value=f\"상태: {states[current_state[0]]}\")\n",
    "\n",
    "# 버튼 스타일 업데이트 함수\n",
    "def update_checkbox_style():\n",
    "    style = state_styles[states[current_state[0]]]\n",
    "    checkbox.style.button_color = style['button_color']\n",
    "    checkbox.layout.border = f\"1px solid {style['border_color']}\"  # 테두리 두께 줄임\n",
    "\n",
    "# 상태 변경 함수\n",
    "def toggle_state(event):\n",
    "    # 상태 순환 (0 → 1 → 2 → 0)\n",
    "    current_state[0] = (current_state[0] + 1) % len(states)\n",
    "    state_label.value = f\"상태: {states[current_state[0]]}\"  # 상태 텍스트 변경\n",
    "    update_checkbox_style()  # 버튼 스타일 업데이트\n",
    "\n",
    "# 버튼 클릭 이벤트 연결\n",
    "checkbox.on_click(toggle_state)\n",
    "\n",
    "# 초기 스타일 설정\n",
    "update_checkbox_style()\n",
    "\n",
    "# HBox를 사용하여 버튼과 텍스트를 수평 가운데 정렬\n",
    "container = HBox([checkbox, state_label], layout=Layout(align_items='center'))\n",
    "\n",
    "# 화면 표시\n",
    "display(container)"
   ]
  },
  {
   "cell_type": "markdown",
   "metadata": {},
   "source": [
    "## 체크박스에 대한 집착3\n",
    "### 변경 사항\n",
    "#### 텍스트 뒤에 (완료) (미완료) (진행중)이 뜨도록 바꿈\n",
    "#### 모듈로 만듬\n",
    "TIL_by_Day 에 모듈 폴더를 하나 만들어서 거기에 넣어놨음\n",
    "\n",
    "아래는 구현 예시\n",
    "\n",
    "### 아쉬운점\n",
    "  1. 상태유지는 또 다른 문제긴 한데.. 껐다 켜면 상태 유지가 되진 않음. 근데 내가 상태 유지를 원했던 건 아니라서 내가 원하는 기능은 일단 다 구현을 했음"
   ]
  },
  {
   "cell_type": "code",
   "execution_count": 1,
   "metadata": {},
   "outputs": [
    {
     "data": {
      "application/vnd.jupyter.widget-view+json": {
       "model_id": "1164e57c32b14dc3acb617c2943f0422",
       "version_major": 2,
       "version_minor": 0
      },
      "text/plain": [
       "HBox(children=(Button(layout=Layout(border_bottom='1px solid black', border_left='1px solid black', border_rig…"
      ]
     },
     "metadata": {},
     "output_type": "display_data"
    },
    {
     "data": {
      "application/vnd.jupyter.widget-view+json": {
       "model_id": "3f7a8a2d937a40288295227b471854cd",
       "version_major": 2,
       "version_minor": 0
      },
      "text/plain": [
       "HBox(children=(Button(layout=Layout(border_bottom='1px solid black', border_left='1px solid black', border_rig…"
      ]
     },
     "metadata": {},
     "output_type": "display_data"
    },
    {
     "data": {
      "application/vnd.jupyter.widget-view+json": {
       "model_id": "d43d2ba0a35e4d198378b96ab61cea0b",
       "version_major": 2,
       "version_minor": 0
      },
      "text/plain": [
       "HBox(children=(Button(layout=Layout(border_bottom='1px solid black', border_left='1px solid black', border_rig…"
      ]
     },
     "metadata": {},
     "output_type": "display_data"
    }
   ],
   "source": [
    "from modules.TaskCheckbox import TaskCheckbox  # TIL_by_Day 폴더 내 modules에서 import\n",
    "\n",
    "# 할 일 추가\n",
    "task1 = TaskCheckbox(\"오늘의 파이썬 문제풀이하기\")\n",
    "task2 = TaskCheckbox(\"데이터 분석 과제 제출하기\")\n",
    "task3 = TaskCheckbox(\"AI 논문 읽기\")\n",
    "\n",
    "# 각 할 일 표시\n",
    "task1.display()\n",
    "task2.display()\n",
    "task3.display()"
   ]
  },
  {
   "cell_type": "markdown",
   "metadata": {},
   "source": [
    "# 방법론\n",
    "프로젝트 관리와 작업 진행에 접근하는 두 가지 주요 방법론에 대해 설명한다.\n",
    "\n",
    "## 1. Waterfall 방식\n",
    "### 개념\n",
    "- 단계별 순차적으로 진행되는 프로젝트 관리 방법론이다.\n",
    "- 각 단계가 끝난 후 다음 단계로 넘어가며, 한 번 완료된 단계는 되돌리기 어렵다.\n",
    "\n",
    "### 특징\n",
    "- **고정된 계획:** 프로젝트 시작 전에 전체 계획과 요구사항이 명확히 정의됨\n",
    "- **순차적 진행:** 각 단계 (요구사항 분석 -> 설계 -> 구현 -> 테스트 -> 배포)가 끝나야 다음 단계로 넘어감\n",
    "- **문서 중심:** 각 단계에서 문서화가 중요하며, 명확한 기록을 남김\n",
    "\n",
    "### 장점\n",
    "- **명확한 구조:** 단계별로 진행되기 때문에 체계적이고 예측 가능\n",
    "- **관리 용이:** 진행 상태와 일정 관리가 비교적 쉬움\n",
    "- **문서화:** 프로젝트 종료 후에도 명확한 기록이 남아 유지보수에 유리\n",
    "\n",
    "### 단점\n",
    "- **변화에 취약:** 프로젝트 중간에 요구사항이 변경되면 수정이 어렵고 비용이 증가\n",
    "- **긴 개발 주기:** 최종 결과물이 늦게 나오므로 고객 피드백 반영이 어려움\n",
    "- **리스크 관리 어려움:** 프로젝트 후반부에야 결과물을 확인할 수 있어 큰 문제가 발견되면 대응이 어려움\n",
    "\n",
    "### 적합한 경우\n",
    "- 요구사항이 처음부터 명확하고 변경 가능성이 낮은 경우\n",
    "- 개발 과정이 복잡하고, 문서화가 필수적인 경우\n",
    "- 규제나 법률에 따라 체계적인 문서 기록이 필요한 경우 (예: 의료, 건설 프로젝트)\n",
    "\n",
    "## 2. Agile 방식\n",
    "### 개념 \n",
    "- 유연하고 반복적인(iterative) 방식으로, 변화하는 요구사항에 신속히 대응하며 작업을 진행함\n",
    "- 고객과 팀원 간의 협업을 강조하고, 작은 단위의 결과물을 지속적으로 전달함\n",
    "\n",
    "### 특징\n",
    "- **짧은 반복 주기**: 작업을 작은 단위(스프린트)로 나누어 반복적으로 진행\n",
    "- **지속적인 피드백**: 결과물을 자주 고객에게 보여주고 피드백을 반영\n",
    "- **유연성:** 프로젝트 진행중에도 요구사항 변경 가능\n",
    "- **팀 중심:** 팀원 간의 긴밀한 소통과 협업을 중시\n",
    "\n",
    "### 장점\n",
    "- **변화에 대한 유연성:** 고객 요구사항 변경에 신속히 대응 가능\n",
    "- **빠른 결과물 제공:** 짧은 주기마다 사용 가능한 결과물을 제공\n",
    "- **높은 품질:** 지속적인 테스트와 피드백으로 품질을 보장\n",
    "\n",
    "### 단점\n",
    "- **계획의 불확실성:** 초기 단계에서 전체 일정과 예산을 정확히 예측하기 어려움\n",
    "- **팀 의존도 높음:** 팀워크와 협업이 원활하지 않으면 효과가 떨어짐\n",
    "- **문서 부족 가능성:** 문서화가 부족하면 장기적인 유지보수에 불리할 수 있음\n",
    "\n",
    "### 적합한 경우\n",
    "- 요구사항이 자주 바뀌거나 처음부터 명확하지 않은 경우\n",
    "- 빠른 결과물 제공과 고객 피드백이 중요한 경우\n",
    "- 소규모 팀에서 빠른 의사결정과 유연한 작업이 필요한 경우(예: 스타트업, 소프트웨어 개발)"
   ]
  },
  {
   "cell_type": "markdown",
   "metadata": {},
   "source": [
    "# 베이직반:오늘의 문법\n",
    "2024년 11월 28일 목요일 베이직반:오늘의 문법 수업 내용 중 일부를 기록합니다.\n",
    "\n",
    "## 자료 위치\n",
    " 1. Original: 베이직 반 노션 [과제:오늘의문법], [강의자료]-> [11월 28일 강의교안 찾기]\n",
    " 2. My Mac: 맥북 파인더에서 오늘의문법 폴더 검색\n",
    "\n",
    "## print()\n"
   ]
  },
  {
   "cell_type": "markdown",
   "metadata": {},
   "source": [
    "# 회고\n",
    "## 회고1\n",
    "'Agline 하게 일하는 법'을 배우고 있는 'Waterfall 방식의 나' 인건지 어떻게 일을 하고 있는 건지도 모르겠다. \n",
    "\n",
    "근데 연구라는게 Agile하게 되기 쉽지 않은 것 같기도 하다. 되는게 있고 안되는게 있는거 같단 생각. \n",
    "\n",
    "내 상황에 맞는 활용 법은 Waterfall 방식의 장점을 활용해서 Agile 요소를 도입하는 것이다. \n",
    "\n",
    "즉, 연구 과정이 체계적이어야 하므로, 주요 실험 단계나 논문 작성 과정은 Waterfall 방식을 활용해 계획하고 관리하고 \n",
    "\n",
    "Agile하게 실험이나 분석 중간중간 결과를 검토하고, 상황 변화에 따라 계획을 유연하게 수정하면 좋을 것 같다.\n",
    "\n",
    "## 회고2\n",
    "체크박스에 대한 집착으로, 결국 클릭을 3번 해서 상태가 변하는 체크박스를 만들었다. GPT를 잔뜩 때려서 만든거라 아직 공부 필요함. \n",
    "\n",
    "코드가 10번도 넘게 바꼈다. 이걸 직접 구현할 실력이 될 때 까지 달려본다. \n",
    "\n",
    "이것도 어려운데 LLM 챗봇은 어떻게 ..... 만들지..? \n",
    "\n",
    "내 스스로 한건... GPT 때리기랑 컬러 고르기 밖에 못했는데...\n"
   ]
  },
  {
   "cell_type": "markdown",
   "metadata": {},
   "source": []
  }
 ],
 "metadata": {
  "kernelspec": {
   "display_name": "TIL",
   "language": "python",
   "name": "python3"
  },
  "language_info": {
   "codemirror_mode": {
    "name": "ipython",
    "version": 3
   },
   "file_extension": ".py",
   "mimetype": "text/x-python",
   "name": "python",
   "nbconvert_exporter": "python",
   "pygments_lexer": "ipython3",
   "version": "3.13.0"
  }
 },
 "nbformat": 4,
 "nbformat_minor": 2
}
