{
 "cells": [
  {
   "cell_type": "markdown",
   "metadata": {},
   "source": [
    "### 데이터 전처리(Data Clearning)\n",
    "- 데이터 전처리란 종종 불완전 한 raw data를 머신 러닝에 사용할 수 있도록 형식을 맞춰주는 작업이다.\n",
    "- 데이터 전처리를 통해 데이터의 품질을 높인다."
   ]
  },
  {
   "cell_type": "markdown",
   "metadata": {},
   "source": [
    "#### 데이터 전처리의 종류"
   ]
  },
  {
   "cell_type": "markdown",
   "metadata": {},
   "source": [
    "![데이터 전처리의 종류](image/datacleaning.png)"
   ]
  },
  {
   "cell_type": "markdown",
   "metadata": {},
   "source": [
    "#### 데이터 전처리의 주요 기법\n",
    "\n",
    "**1. 결측치 처리 (Handing Missing Data)**\n",
    "\n",
    " - 데이터 셋에 누락된 NaN(Not a Number)를 의미함. \n",
    "\n",
    " - 삭제 / 대체 / 예측 기법 있음 \n",
    "\n",
    "**2. 이상치 처리 (Handing Outliers)**\n",
    "\n",
    " -  데이터에서 비정상적으로 크거나 작은 값을 의미함.\n",
    "\n",
    " -  제거/ 변환/ IQR 방법으로 탐지해서 처리함\n",
    "\n",
    "**3. 데이터 정규화 (Normalization)**\n",
    "\n",
    " - 데이터 스케일링 데이터를 0~1 범위로 변환함 \n",
    "\n",
    "**4. 데이터 표준화 (Standardization)**\n",
    "\n",
    " - 데이터를 평균 0, 분산1로 변환함\n",
    "\n",
    "**5. 특성 공학 (Feture Engineering)**\n",
    "\n",
    " - 데이터로부터 유용한 Feture를 생성함\n",
    "\n",
    " - 특성 생성: 기존 데이터를 기반으로 새로운 특성 생성 (예시: 날짜 데이터를 사용하여 요일 특성 생성)\n",
    "\n",
    " - 특성 선택: 모델 성능에 중요한 특성은 선택, 중요하지 않은 특성은 제거함\n",
    "\n",
    "**6. 데이터 인코딩 (Data Encoding)**\n",
    "\n",
    " - 비정형 데이터를 모델이 이해할 수 있는 형태로 변환함\n",
    "\n",
    " - 레이블 인코딩(Lable Encoding): 범주형 데이터를 숫자로 변환\n",
    "\n",
    " - 원-핫 인코딩(One-Hot Encoding): 범주형 데이터를 이진 벡터로 변환 \n",
    "\n",
    "**7. 데이터 분할 (Data Splitting)**\n",
    "\n",
    " - 데이터를 학습용(Train), 검증용(Validation), 테스트용(Test)으로 분할. 이를 통해 모델의 일반화 성능을 평가"
   ]
  },
  {
   "cell_type": "markdown",
   "metadata": {},
   "source": []
  }
 ],
 "metadata": {
  "kernelspec": {
   "display_name": "DLenv",
   "language": "python",
   "name": "python3"
  },
  "language_info": {
   "name": "python",
   "version": "3.8.18"
  }
 },
 "nbformat": 4,
 "nbformat_minor": 2
}
