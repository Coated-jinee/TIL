{
 "cells": [
  {
   "cell_type": "markdown",
   "metadata": {},
   "source": [
    "### Github: clone\n",
    "\n",
    "Github에서 **클론(clone)**은 다른 사람의 저장소(repository)를 복사해서 내 컴퓨터에 똑같이 만드는 작업을 말한다. 클론을 하면 저장소에 있는 모든 파일과 폴더가 내 컴퓨터에 다운로드되어, 인터넷 없이도 코드를 실행하거나 수정할 수 있게 한다. "
   ]
  },
  {
   "cell_type": "markdown",
   "metadata": {},
   "source": [
    "#### 클론하는 법\n",
    "1. GitHub에서 클론하고 싶은 저장소로 이동한다.\n",
    "2. 페이지 상단의 Code 버튼을 클릭한다.\n",
    "3. HTTPS 링크를 선택한 후 링크를 복사한다.\n",
    "4. 내 컴퓨터에서 터미널을 열고, 클론하고 싶은 폴더 위치로 이동한다.\n",
    "5. 터미널에 다음 명령어를 입력한다: "
   ]
  },
  {
   "cell_type": "code",
   "execution_count": null,
   "metadata": {
    "vscode": {
     "languageId": "plaintext"
    }
   },
   "outputs": [],
   "source": [
    "git clone [복사한 링크]"
   ]
  },
  {
   "cell_type": "markdown",
   "metadata": {},
   "source": [
    "6. 명령어를 실행하면 저장소가 내 컴퓨터에 복사된다.\n",
    "예를 들어, 복사한 링크가 https://github.com/username/repository-name.git라면 다음과 같이 입력하면 된다:"
   ]
  },
  {
   "cell_type": "code",
   "execution_count": null,
   "metadata": {
    "vscode": {
     "languageId": "plaintext"
    }
   },
   "outputs": [],
   "source": [
    "git clone https://github.com/username/repository-name.git"
   ]
  },
  {
   "cell_type": "markdown",
   "metadata": {},
   "source": [
    "이제 저장소의 전체 파일이 내 컴퓨터에 다운로드 되며, 로컬 환경에서 자유롭게 코드를 확인하고 수정할 수 있다. "
   ]
  }
 ],
 "metadata": {
  "language_info": {
   "name": "python"
  }
 },
 "nbformat": 4,
 "nbformat_minor": 2
}
