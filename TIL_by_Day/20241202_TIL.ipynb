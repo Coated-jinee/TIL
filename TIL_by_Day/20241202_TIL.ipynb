{
 "cells": [
  {
   "cell_type": "markdown",
   "metadata": {},
   "source": [
    "# 2024년 12월 02일 월요일 (Monday, December 2, 2024)"
   ]
  },
  {
   "cell_type": "code",
   "execution_count": 1,
   "metadata": {},
   "outputs": [
    {
     "data": {
      "application/vnd.jupyter.widget-view+json": {
       "model_id": "6d8b4180514d4134a5366b46b5c49a88",
       "version_major": 2,
       "version_minor": 0
      },
      "text/plain": [
       "HBox(children=(Button(layout=Layout(border_bottom='1px solid black', border_left='1px solid black', border_rig…"
      ]
     },
     "metadata": {},
     "output_type": "display_data"
    },
    {
     "data": {
      "application/vnd.jupyter.widget-view+json": {
       "model_id": "16489bac8d1f4bcfa668304620250a19",
       "version_major": 2,
       "version_minor": 0
      },
      "text/plain": [
       "HBox(children=(Button(layout=Layout(border_bottom='1px solid black', border_left='1px solid black', border_rig…"
      ]
     },
     "metadata": {},
     "output_type": "display_data"
    },
    {
     "data": {
      "application/vnd.jupyter.widget-view+json": {
       "model_id": "47207a6140b0488a90ba9f7f08f91a37",
       "version_major": 2,
       "version_minor": 0
      },
      "text/plain": [
       "HBox(children=(Button(layout=Layout(border_bottom='1px solid black', border_left='1px solid black', border_rig…"
      ]
     },
     "metadata": {},
     "output_type": "display_data"
    },
    {
     "data": {
      "application/vnd.jupyter.widget-view+json": {
       "model_id": "460077430c2542c59b7a3f3ec259ff5b",
       "version_major": 2,
       "version_minor": 0
      },
      "text/plain": [
       "HBox(children=(Button(layout=Layout(border_bottom='1px solid black', border_left='1px solid black', border_rig…"
      ]
     },
     "metadata": {},
     "output_type": "display_data"
    },
    {
     "data": {
      "application/vnd.jupyter.widget-view+json": {
       "model_id": "f827504c24ee4eff9ead53607cf0a354",
       "version_major": 2,
       "version_minor": 0
      },
      "text/plain": [
       "HBox(children=(Button(layout=Layout(border_bottom='1px solid black', border_left='1px solid black', border_rig…"
      ]
     },
     "metadata": {},
     "output_type": "display_data"
    }
   ],
   "source": [
    "from modules.TaskCheckbox import TaskCheckbox\n",
    "\n",
    "# 할 일 추가\n",
    "task1 = TaskCheckbox(\"LangChain 공식문서 보고 RAG 구현하기 (LLM) \")\n",
    "task2 = TaskCheckbox(\"팀프로젝트: 크롤링 더 하기\")\n",
    "task3 = TaskCheckbox(\"팀프로젝트: README문서 작성하기\")\n",
    "task4 = TaskCheckbox(\"베이직반:오늘의문법 공부\")\n",
    "task5 = TaskCheckbox(\"베이직반:오늘의파이썬(코드카타) 문제풀이\")\n",
    "\n",
    "# 각 할 일 표시\n",
    "task1.display()\n",
    "task2.display()\n",
    "task3.display()\n",
    "task4.display()\n",
    "task5.display()"
   ]
  },
  {
   "cell_type": "markdown",
   "metadata": {},
   "source": [
    "# 팀프로젝트: D-2\n",
    "## 각종 기록들을 시각화 / 문서화 시키기\n",
    "이미 써 둔 문서들이 있다.  Notion/ Jira로 작업 흐름 관리, SA 문서는 구글 드라이브, 팀 커뮤니케이션은 Slack, 코드는 github 등등등.. \n",
    "Jira 같은 경우 초반에 '이 Tool로 작업 관리를 하자'라고 나온게 아니고, 팀 프로젝트 도중에 특강으로 들은거라 쓰는 사람이 없지만\n",
    "우리 팀은 나름 체계적으로 일하고있는데, 결국 우리 팀이 체계적으로 일하고있다는걸 보여주기 위해서는 \n",
    "\n",
    "\n",
    "- [x] 전체 진행사항 (Notion)\n",
    "- [ ] Jira 팀페이지 (Jira)\n",
    "- [ ] SA 문서 (Google Docs)\n",
    "- [ ] README (Github)\n"
   ]
  },
  {
   "cell_type": "markdown",
   "metadata": {},
   "source": [
    "### Notion\n",
    "- 프로젝트 관리 부분에 팀프로젝트 Github 링크 추가함\n",
    "- TIL 아카이빙 채우기 (2024-11-20 TIL 파일 안뜨는 것 수정하기) - 수정완 (JSON 파일 손상 에러)\n",
    "- 와이어프레임 확인 (Figma)"
   ]
  },
  {
   "cell_type": "markdown",
   "metadata": {},
   "source": [
    "### Jira 칸반 프로젝트\n",
    "작업 흐름을 **시각화하고 효율적**으로 관리하기 위한 도구\n",
    "\n",
    "#### 단축키\n",
    "명령 팔레드 : cmd + k\n",
    "\n"
   ]
  },
  {
   "cell_type": "markdown",
   "metadata": {},
   "source": [
    "### SA 문서 수정\n",
    "- [x] Notion SA 문서 참고자료 읽기\n",
    "- [x] SA 문서 수정 (위치: dev 계정 구글드라이브)\n",
    "\n",
    "**[수정 사항]** 튜터님 피드백을 기반으로 수정  \n",
    "- **프로젝트 소개:** JobGPT 챗봇 개발 스토리 한스푼 첨가  \n",
    "- **기획란:** 구체적인 설명 추가  \n",
    "- **와이어프레임:** 구체적인 설명 추가  \n",
    "- **역할분담:** 현재 팀 역할분배에 맞게 역할 분배. 각 역할에서의 세부 내용은 약간의 수정 필요함. 아직 이름 명시 없음  \n",
    "- **개발 환경:** 협업 도구에 Jira를 추가함. (Jira 프로젝트도 약간 수정)  \n",
    "- **사용하는기술:** 설명 추가  \n",
    "- **개발 일정:** 표를 사용함 \n",
    "\n",
    "- 보라색 텍스트 부분은 수정이 필요한 부분으로 남겨두었음"
   ]
  },
  {
   "cell_type": "markdown",
   "metadata": {},
   "source": [
    "### README 작성\n",
    "- 트러블 슈팅 부분은 프론트엔드, 백엔드 팀원들에게 각각 요청함"
   ]
  },
  {
   "cell_type": "markdown",
   "metadata": {},
   "source": [
    "### PPT 템플릿 제작 중\n",
    "- SA 문서와 결과보고서의 Tool을 맞추기 위해 Google presentation으로 작업\n",
    "- LLM 챗봇과 색상도 맞추고 저작권에서도 자유롭고 싶어서 템플릿 제작"
   ]
  },
  {
   "cell_type": "markdown",
   "metadata": {},
   "source": [
    "## 크롤링 데이터 수집을 위한 Windows 컴퓨터 세팅\n",
    "- Git 설치부터 까다롭다. \n",
    "- git과 conda 환경변수도 추가해야했다.\n",
    "- 세팅.. 1시간.. 30분..?"
   ]
  },
  {
   "cell_type": "markdown",
   "metadata": {},
   "source": [
    "# 회고\n",
    "모든 팀원이 밤을 샐지도 모르는 하루.. 23시 37분인데 모두가 있어..!"
   ]
  }
 ],
 "metadata": {
  "kernelspec": {
   "display_name": "TIL",
   "language": "python",
   "name": "python3"
  },
  "language_info": {
   "codemirror_mode": {
    "name": "ipython",
    "version": 3
   },
   "file_extension": ".py",
   "mimetype": "text/x-python",
   "name": "python",
   "nbconvert_exporter": "python",
   "pygments_lexer": "ipython3",
   "version": "3.13.0"
  }
 },
 "nbformat": 4,
 "nbformat_minor": 2
}
