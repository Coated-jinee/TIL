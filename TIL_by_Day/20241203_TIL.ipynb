{
 "cells": [
  {
   "cell_type": "markdown",
   "metadata": {},
   "source": [
    "# 2024-12-03 화요일 (Tuesday, December 3, 2024)"
   ]
  },
  {
   "cell_type": "code",
   "execution_count": 1,
   "metadata": {},
   "outputs": [
    {
     "data": {
      "application/vnd.jupyter.widget-view+json": {
       "model_id": "ee9694b47566469aae57f198d433caff",
       "version_major": 2,
       "version_minor": 0
      },
      "text/plain": [
       "HBox(children=(Button(layout=Layout(border_bottom='1px solid black', border_left='1px solid black', border_rig…"
      ]
     },
     "metadata": {},
     "output_type": "display_data"
    },
    {
     "data": {
      "application/vnd.jupyter.widget-view+json": {
       "model_id": "b03925015cd14ce7b60b566599ccbd5d",
       "version_major": 2,
       "version_minor": 0
      },
      "text/plain": [
       "HBox(children=(Button(layout=Layout(border_bottom='1px solid black', border_left='1px solid black', border_rig…"
      ]
     },
     "metadata": {},
     "output_type": "display_data"
    },
    {
     "data": {
      "application/vnd.jupyter.widget-view+json": {
       "model_id": "acf9860a0b5c46fea3b9747e9dc3e88f",
       "version_major": 2,
       "version_minor": 0
      },
      "text/plain": [
       "HBox(children=(Button(layout=Layout(border_bottom='1px solid black', border_left='1px solid black', border_rig…"
      ]
     },
     "metadata": {},
     "output_type": "display_data"
    },
    {
     "data": {
      "application/vnd.jupyter.widget-view+json": {
       "model_id": "14a87de93273404fb173fc4204c6fd00",
       "version_major": 2,
       "version_minor": 0
      },
      "text/plain": [
       "HBox(children=(Button(layout=Layout(border_bottom='1px solid black', border_left='1px solid black', border_rig…"
      ]
     },
     "metadata": {},
     "output_type": "display_data"
    },
    {
     "data": {
      "application/vnd.jupyter.widget-view+json": {
       "model_id": "bcdb19150e454f0b81cfc57a396bc850",
       "version_major": 2,
       "version_minor": 0
      },
      "text/plain": [
       "HBox(children=(Button(layout=Layout(border_bottom='1px solid black', border_left='1px solid black', border_rig…"
      ]
     },
     "metadata": {},
     "output_type": "display_data"
    }
   ],
   "source": [
    "from modules.TaskCheckbox import TaskCheckbox\n",
    "\n",
    "# 할 일 추가\n",
    "\n",
    "task1 = TaskCheckbox(\"팀프로젝트:크롤링\")\n",
    "task2 = TaskCheckbox(\"팀프로젝트:SA 문서\")\n",
    "task3 = TaskCheckbox(\"팀프로젝트:README 문서\")\n",
    "task4 = TaskCheckbox(\"팀프로젝트:최종보고서 PPT\")\n",
    "task5 = TaskCheckbox(\"베이직반:오늘의문법 공부\")\n",
    "\n",
    "# 각 할 일 표시\n",
    "task1.display()\n",
    "task2.display()\n",
    "task3.display()\n",
    "task4.display()\n",
    "task5.display()"
   ]
  },
  {
   "cell_type": "markdown",
   "metadata": {},
   "source": [
    "# Git: branch\n",
    "Git에서 무슨일이 일어나고 있는거지?\n",
    "\n",
    "## 모든 브랜치 로컬에서 확인 \n",
    "git branch -r\n",
    "\n",
    "## 특정 브랜치를 로컬에 생성\n",
    "원격에 있는 브랜치를 로컬로 사용하려면 다음과 같이 체크아웃하면 됨: \n",
    "왜 브랜치를 사용하는건데 체크아웃이라는 표현을 쓸까? \n",
    "\n",
    "## 로컬에 존재하는 모든 브랜치 확인\n",
    "git branch"
   ]
  },
  {
   "cell_type": "raw",
   "metadata": {
    "vscode": {
     "languageId": "raw"
    }
   },
   "source": [
    "(team3project) jinee@JINEE-MacBook team_3 % git fetch origin\n",
    "remote: Enumerating objects: 161, done.\n",
    "remote: Counting objects: 100% (161/161), done.\n",
    "remote: Compressing objects: 100% (132/132), done.\n",
    "remote: Total 161 (delta 85), reused 55 (delta 20), pack-reused 0 (from 0)\n",
    "Receiving objects: 100% (161/161), 197.84 KiB | 21.98 MiB/s, done.\n",
    "Resolving deltas: 100% (85/85), done.\n",
    "From https://github.com/wriml92/LLM_RAG_Team_Project\n",
    " * [new branch]      develop_1  -> origin/develop_1\n",
    " * [new branch]      main       -> origin/main\n",
    " * [new branch]      sh         -> origin/sh\n",
    " * [new branch]      stli_jh    -> origin/stli_jh"
   ]
  },
  {
   "cell_type": "markdown",
   "metadata": {},
   "source": [
    "## 팀 프로젝트 테스트 (LLM 모델 연결 확인)\n",
    "\n",
    "- 새 가상환경 만듬 (파이썬 버전지정설치 3.11)\n",
    "- 맥북에 콘다로 토치(torch)설치\n",
    "conda install pytorch torchvision torchaudio -c pytorch -c conda-forge\n",
    "- pip로 langchain 관련 라이브러리 설치\n",
    "pip install langchain\n",
    "pip install langchain-openai\n",
    "pip install langchain-core\n",
    "pip install langchain-community\n",
    "pip install langchain-huggingface\n",
    "\n",
    "- FAISS 설치\n",
    "pip install faiss-cpu\n",
    "\n",
    "- pydub 설치\n",
    "pip install pydub\n",
    "\n",
    "- requestes 설치\n",
    "pip install requests\n",
    "\n",
    "- fake_useragent 설치\n",
    "\n",
    "- 환경의 python과 fake-useragent 설치 경로 동일 확인. 이 다음은 langchain_huggingface 모듈 문제 발생\n",
    "\n",
    "- (14번 라인 수정.그래도안되긴함) from langchain_huggingface import HuggingFaceEmbeddings\n",
    "from langchain_huggingface.embeddings.huggingface import HuggingFaceEmbeddings\n",
    "\n",
    "- 패키지 경로 간 불일치 \n",
    "\n",
    "which python\n",
    "pip show langchain-huggingface\n",
    "\n",
    "(team3project2) jinee@JINEE-MacBook LLM_RAG_Team_Project % /opt/anaconda3/envs/team3project/bin/python /Users/jinee/Documents/pers-dev\n",
    "\n",
    "무조건 아래 코드를 입력해서 실행시켜야함 \n",
    "\n",
    "/opt/anaconda3/envs/team3project2/bin/python /Users/jinee/Documents/pers-dev/ai-webdev/team_3/LLM_RAG_Team_Project/llm_model_rag.py"
   ]
  },
  {
   "cell_type": "markdown",
   "metadata": {},
   "source": [
    "## 문제 원인\n",
    "\t1.\t가상환경 불일치\n",
    "\t•\t실행하려는 Python 스크립트는 team3project2 환경에 설치된 패키지에 의존하고 있었지만, 잘못된 환경 (team3project)의 Python을 사용하려고 했음.\n",
    "\t•\tPython 실행 경로(/opt/anaconda3/envs/team3project/bin/python)와 패키지가 설치된 경로(/opt/anaconda3/envs/team3project2/lib/python3.11/site-packages)가 일치하지 않아서 ModuleNotFoundError가 발생.\n",
    "\t2.\t환경 내 Python 경로 사용 오류\n",
    "\t•\t사용 중인 Python 환경에 적절한 패키지가 설치되어 있음에도 불구하고, 환경이 잘못 지정되어 Python이 올바른 패키지를 찾지 못함.\n",
    "\t3.\t맥(Mac)과 윈도우 환경 차이\n",
    "\t•\t코드를 작성한 사람은 Windows 환경에서 pip만을 사용했지만, Mac에서는 conda와 pip가 혼용되며, 경로 관리가 더 중요했음.\n",
    "\t•\tWindows 환경과 달리, Mac에서는 가상환경의 Python 경로가 명시적으로 설정되지 않으면 문제가 발생할 가능성이 있음.\n",
    "\n",
    "## 트러블슈팅 과정\n",
    "\n",
    "\t1.\tPython 실행 경로 확인\n",
    "\t•\twhich python 명령어로 현재 터미널에서 사용 중인 Python 경로를 확인.\n",
    "\t•\t두 환경(team3project와 team3project2)의 Python 경로와 패키지 설치 경로를 비교하여 문제를 확인.\n",
    "\t2.\t패키지 설치 확인\n",
    "\t•\tpip show langchain-huggingface 명령어로 해당 패키지가 team3project2 환경에 설치되어 있는 것을 확인.\n",
    "\t•\tModuleNotFoundError가 발생하는 이유는 잘못된 환경의 Python을 사용했기 때문임.\n",
    "\t3.\t환경 변수 의심\n",
    "\t•\tMac에서는 일반적으로 가상환경 내 Python 경로를 명확히 지정하지 않아도 되지만, 현재의 경우 환경 불일치로 인해 Python이 올바른 패키지 경로를 찾지 못한 것이 문제였음.\n",
    "\t4.\t올바른 Python 경로로 실행\n",
    "\t•\t명령어 /opt/anaconda3/envs/team3project2/bin/python으로 team3project2 환경의 Python을 명시적으로 사용하여 문제 해결.\n",
    "\n",
    "## 해결 방법\n",
    "/opt/anaconda3/envs/team3project2/bin/python /Users/jinee/Documents/pers-dev/ai-webdev/team_3/LLM_RAG_Team_Project/llm_model_rag.py\n",
    "\n",
    "이 명령어로 올바른 Python 환경을 지정하여 실행하니 문제가 해결됨.\n",
    "\n",
    "/opt/anaconda3/envs/team3project2/bin/python /Users/jinee/Documents/pers-dev/ai-webdev/team_3/LLM_RAG_Team_Project/test_yj.py"
   ]
  },
  {
   "cell_type": "markdown",
   "metadata": {},
   "source": [
    "# 오디오 부분에서 추가 설치 \n",
    "brew install ffmpeg\n",
    "brew install portaudio\n",
    "pip install pyaudio\n",
    "pip install SpeechRecognition"
   ]
  },
  {
   "cell_type": "markdown",
   "metadata": {},
   "source": [
    "파이썬 환경을 자꾸 team3project를 씀 team3project2 의 파이썬 환경을 써야 하는데.. "
   ]
  },
  {
   "cell_type": "markdown",
   "metadata": {},
   "source": [
    "# 이 코드는 자꾸 바뀌는 내 파이썬 환경을 정확하게 명시함\n",
    "/opt/anaconda3/envs/team3project2/bin/python /Users/jinee/Documents/pers-dev/ai-webdev/team_3/LLM_RAG_Team_Project/[실행파일이름]"
   ]
  },
  {
   "cell_type": "markdown",
   "metadata": {},
   "source": [
    "## 갑자기 생긴 커밋 8800개.. 느낌이 쎄하네.. \n",
    "이 안에 들어있던 하위폴더 .git을 지워야 하는데 상위폴더꺼 지운 느낌.."
   ]
  },
  {
   "cell_type": "markdown",
   "metadata": {},
   "source": [
    "# 회고\n",
    "하 ..............................  \n",
    "그래도 기능 구현은 다했다!  \n"
   ]
  }
 ],
 "metadata": {
  "kernelspec": {
   "display_name": "TIL",
   "language": "python",
   "name": "python3"
  },
  "language_info": {
   "codemirror_mode": {
    "name": "ipython",
    "version": 3
   },
   "file_extension": ".py",
   "mimetype": "text/x-python",
   "name": "python",
   "nbconvert_exporter": "python",
   "pygments_lexer": "ipython3",
   "version": "3.13.0"
  }
 },
 "nbformat": 4,
 "nbformat_minor": 2
}
