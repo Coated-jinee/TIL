{
 "cells": [
  {
   "cell_type": "markdown",
   "metadata": {},
   "source": [
    "# 2024년 11월 4일 월요일 \n",
    "## 할일\n",
    "- [ ] 강의: AI 모델 활용\n",
    "\n",
    "## AI 모델 활용 \n",
    "### AI 모델 활용에 대한 이해: 연구와 활용의 차이\n",
    "\n",
    "API (Application Programming Interface): 개발자가 복잡한 AI 기능을 손쉽게 사용할 수 있도록 제공되는 인터페이스이다.\n",
    "연구를 하는것과 사용할 수 있도록 만드는 건 다른 개념임!\n",
    "\n",
    "### 패키지 관리와 가상환경 설정\n",
    "- 버전관리의 중요성: 하나의 패키지를 설치해도, 그 안에서 겹치는 다른 버전이 설치될 수 있음. 그래서 충돌가능성 있음.\n",
    "  \n",
    "```\n",
    "which python\n",
    "```\n",
    "\n",
    "#### conda로 가상환경 만들기\n",
    "`conda create -n AI_2 python=3.8`\n",
    "\n",
    "#### Jupyter Notebook에서 가상환경 설정하기\n",
    "Jupyter Notebook에서 가상환경을 사용하려면 연결을 해야한다.\n",
    "1. ipykernel 설치\n",
    "2. 커널 등록\n",
    "\n",
    "#### venv로 가상환경 설정하기\n",
    "`source 환경이름/bin/activate`\n",
    "\n",
    "#### requirements.txt 개념 및 사용법 (이름은 관례적인것임)\n",
    "1. requirements.txt 파일 생성하기\n",
    "pip freeze > requitrments.txt\n",
    "\n",
    "2. requirements.txt 파일로 패키지 설치하기\n",
    "pip install -r requirements.txt \n",
    "\n",
    "Conda는 **환경 자체**를 내보낼 수 있다.\n",
    "\n",
    "### 허깅페이스에 대해 알아보자! \n",
    "실습을 하기 위해서는 가상환경을 무조건 활성화 시켜야함"
   ]
  }
 ],
 "metadata": {
  "language_info": {
   "name": "python"
  }
 },
 "nbformat": 4,
 "nbformat_minor": 2
}
