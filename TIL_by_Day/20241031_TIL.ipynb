{
 "cells": [
  {
   "cell_type": "markdown",
   "metadata": {},
   "source": [
    "오늘이 할로윈이였구나, github의 잔디가 주황색인걸 보고 알아챔"
   ]
  },
  {
   "cell_type": "markdown",
   "metadata": {},
   "source": [
    "![pigure](holloween.png)"
   ]
  },
  {
   "cell_type": "markdown",
   "metadata": {},
   "source": [
    "오늘도 TIL이 없다. \n",
    "\n",
    "하루종일 이전에 학습한 내용을 날짜별로 정리 중 이다. 정리할 게 넘친다. \n",
    "정리하면서 또 머리에 주입시키고 있다. 저절로 반복 학습이 되는 중\n",
    "정리한다고 실험을 이틀동안 미뤘는데, 오늘은 진짜 가야한다. 세포 다 죽게 생겼음.\n",
    "오늘도 긴 밤이 될 거 같다. 한달 째 시험기간인 것 같은 이 기분. 바쁜데 재밌다. "
   ]
  },
  {
   "cell_type": "markdown",
   "metadata": {},
   "source": [
    "#### 내 강점, 약점, 장점, 단점을 GPT에게 물어보았다.\n",
    "- 내가 궁금했던 건, 연구자로서의 '나'에 대한 인지였다. 그래서 구체적인 스토리를 넣어주었다. 학창 시절, 대학 생할, 대학원 생활 중심으로 있었던 고민과 상황 위주로 스토리를 알려주었다."
   ]
  },
  {
   "cell_type": "markdown",
   "metadata": {},
   "source": []
  }
 ],
 "metadata": {
  "language_info": {
   "name": "python"
  }
 },
 "nbformat": 4,
 "nbformat_minor": 2
}
