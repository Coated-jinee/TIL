{
 "cells": [
  {
   "cell_type": "markdown",
   "metadata": {},
   "source": [
    "## Class: 클래스 설계를 하자\n",
    "이 글은 20241016_TIL의 주제인 Class와 맥락이 이어진다."
   ]
  },
  {
   "cell_type": "markdown",
   "metadata": {},
   "source": [
    "#### 잠깐의 딴소리\n",
    "**프로그래밍에서의 변수**와 **수학적 변수**는 조금 다른 개념이다.\n",
    "\n",
    "프로그래밍에서는 변수는 **\"어떤 값을 담아놓는 상자\"** 라고 생각하면 좋다. 쉽게 비유하자만 변수는 게임에서 캐릭터의 HP, 이름 또는 레벨 같은 정보를 담는 **저장공간** 이다. 이 값들은 게임이 진행되면서 변할 수도 있지만, 항상 **\"어떤 정보를 담고 있는 임시 공간\"**이기 때문에 변수를 **\"정보 상자\"**라고 생각하는 게 좋다. \n",
    "\n",
    "자꾸만 수학적 변수를 떠올려서, 변수의 정의가 헷갈리길래 다시 한번 정립하였다. "
   ]
  },
  {
   "cell_type": "markdown",
   "metadata": {},
   "source": [
    "---"
   ]
  },
  {
   "cell_type": "markdown",
   "metadata": {},
   "source": [
    "클래스를 설계할 때는 크게 어떤 **속성(데이터)** 과 **어떤 행동(메소드)**이 필요한지 먼저 정의하는 것이 중요하다. \n",
    "\n",
    "아이템 클래스를 예로들면, 각 아이템의 특징과 그 특징들이 어떻게 상호작용하는지를 설계해야 한다. "
   ]
  },
  {
   "cell_type": "markdown",
   "metadata": {},
   "source": [
    "### **1. 아이템의 특징(속성)을 정의하기**\n",
    "- 아이템은 **여러 속성**을 가질 수 있다. 예를 들어 **이름, 공격력, 방어력, 가격, 희귀도, 효과** 등 다양한 정보들이 있을 수 있다.\n",
    "- 여기서 속성은 **데이터**이기 때문에, 아이템 클래스에서 각각의 아이템이 가질 **변수**로 정의된다.\n",
    "\n",
    "**질문할 것들:**\n",
    "- 모든 아이템이 **공통적으로 가져야 하는 특징**은 무엇인가?\n",
    "- 특정 아이템에만 **필요한 고유한 특징**은 무엇인가?\n",
    "\n",
    "예를 들어, 모든 아이템에는 **이름(name)과 가격(price)**이 있을 수 있지만, **공격력(attack_power)은 무기**에서만, **방어력(defense)는 방어구**에서만 필요 할 수 있다. "
   ]
  },
  {
   "cell_type": "markdown",
   "metadata": {},
   "source": [
    "### **2. 아이템의 행동(메소드)를 정의하기**\n",
    "- 행동은 아이템이 어떻게 사용되거나 상호작용하는지를 정의하는 메소드이다.\n",
    "- 예를 들면 무기는 공격을 할 수 있고, 포션은 체력을 회복할 수 있다. 이런 기능들을 메소드로 정의해준다.\n",
    "\n",
    "**질문할 것들:**\n",
    "- 모든 아이템이 공통적으로 수행할 수 있는 행동은 무엇인가? (예: 아이템 정보출력)\n",
    "- 특정 아이템만 수행하는 고유한 행동은 무엇인가? (예: 무기는 공격, 포션은 사용)\n",
    "\n",
    "예를 들어, 무기는 attack() 메소드, 포션은 use() 메소드가 필요할 수 있다. "
   ]
  },
  {
   "cell_type": "markdown",
   "metadata": {},
   "source": [
    "### **3. 상속을 이용한 세부적인 분류\n",
    "- 만약 아이템이 여러 종류로 세분화된다면, 상속을 통해 세부 분류를 만들 수 있다.\n",
    "- 예를 들어, 무기(Weapon), 방어구(Armor), 포션(Potion) 등의 서브 클래스를 만들어 각각의 고유한 속성과 행동을 정의할 수 있다. \n",
    "\n",
    "**질문할 것들:**\n",
    "- 세부적인 아이템 분류(무기, 방어구, 포션 등)는 어떤 공통점을 가지고 있는가?\n",
    "- 각 세부 분류는 고유한 속성이나 행동을 어떻게 가질 것인가? \n",
    "\n",
    "상속을 사용하면 공통적인 속성과 메소드는 상위 클래스에서 정의하고, 각 하위 클래스에서 고유한 기능만 추가하면 된다. "
   ]
  },
  {
   "cell_type": "markdown",
   "metadata": {},
   "source": [
    "### 4. 상속을 사용한 설계 예시\n",
    "**기본 아이템 설계:**\n",
    "\n",
    "- 속성: 이름, 가격\n",
    "- 행동: 정보 출력"
   ]
  },
  {
   "cell_type": "code",
   "execution_count": null,
   "metadata": {},
   "outputs": [],
   "source": [
    "class Item:\n",
    "    def __init__(self, name, price):\n",
    "        self.name = name\n",
    "        self.price = price\n",
    "\n",
    "    def show_info(self): \n",
    "        print(f\"아이템 이름: {self.name}, 가격: {self.price}\")"
   ]
  },
  {
   "cell_type": "markdown",
   "metadata": {},
   "source": [
    "**세부 무기 설계:**\n",
    "\n",
    "- 속성: 이름, 가격, 공격력\n",
    "- 행동: 공격하기"
   ]
  },
  {
   "cell_type": "code",
   "execution_count": null,
   "metadata": {},
   "outputs": [],
   "source": [
    "class Weapon(Item):\n",
    "    def __init__(self, name, price, attack_power):\n",
    "        super().__init__(name, price)\n",
    "        self.attack_power = attack_power\n",
    "\n",
    "    def attack(self):\n",
    "        print(f\"{self.name}으로 공격! 공격력: {self.attack_power}\")"
   ]
  },
  {
   "cell_type": "markdown",
   "metadata": {},
   "source": [
    "세부 포션 설계:\n",
    "- 속성: 이름, 가격, 효과\n",
    "- 행동: 사용하기"
   ]
  },
  {
   "cell_type": "code",
   "execution_count": null,
   "metadata": {},
   "outputs": [],
   "source": [
    "class Potion(Item):\n",
    "    def __init__(self, name, price, effect):\n",
    "        super().__init__(name, price)\n",
    "        self.effect = effect\n",
    "\n",
    "    def use(self):\n",
    "        print(f\"{self.name}을 사용하여 {self.effect} 효과를 얻었습니다.\")"
   ]
  },
  {
   "cell_type": "markdown",
   "metadata": {},
   "source": [
    "#### **5. 설계 과정 정리**\n",
    "1. **공통 속성/행동 찾기:** 공통적으로 모든 아이템이 가져야 할 속성과 행동을 정의하기. 예: 이름, 가격, 정보출력\n",
    "2. **특정 속성/행동 분류하기:** 무기, 방어구, 포션처럼 각 아이템이 고유하게 가져야 할 속성과 행동을 정의하기\n",
    "3. **상속 구조 만들기:** 공통 속성/행동은 상위 클래스(Item)에서 정의하고, 세부적인 속성/행동은 하위 클래스(Weapon, Portion 등)에서 정의하기"
   ]
  },
  {
   "cell_type": "markdown",
   "metadata": {},
   "source": [
    "#### **변형:**\n",
    "만약 방어구가 처음에는 공격력이 없다가 강화되었을 때 공격력이 생기는 경우는 어떻게 해야할까?\n",
    "\n",
    "- 이 경우, **모든 아이템에 공통적으로 존재하는 속성**과 **특정 상황에서만 생기는 속성**을 구분하여 설계하는 게 중요하다.\n",
    "\n",
    "**접근 방법:**\n",
    "1. **공격력을 공통 특성에 넣지 말고, 특정 조건에서만 추가:** 공격력은 무기에서만 주로 필요하고, 방어구에서는 강화했을 때만 추가되니까, 모든 아이템의 공통 속성으로 넣는것은 적절하지 않을 수 있음\n",
    "2. **강화된 방어구에만 공격력 속성을 추가:** 방어구 클래스에 기본적으로 공격력 속성은 없지만, 강화가 이루어졌을 때만 공격력이 추가되는 식으로 설계할 수 있다.\n",
    "\n",
    "이런 경우, 방어구에 공격력을 추가하는 방법으로는 동적으로 속성을 추가하는 방식이나 상태에 따른 조건부 속성을 사용할 수 있다."
   ]
  },
  {
   "cell_type": "markdown",
   "metadata": {},
   "source": [
    "#### 예시 코드: 강화에 따른 공격력 추가"
   ]
  },
  {
   "cell_type": "code",
   "execution_count": null,
   "metadata": {},
   "outputs": [],
   "source": [
    "class Armor(Item):\n",
    "    def __init__(self, name, price, defense):\n",
    "        super().__init__(name, price)\n",
    "        self.defense = defense  # 기본 방어력\n",
    "        self.attack_power = 0  # 초기에는 공격력이 없음\n",
    "\n",
    "    def upgrade(self):\n",
    "        print(f\"{self.name}가 강화되었습니다.\")\n",
    "        self.attack_power = 20  # 강화 후 공격력이 추가됨\n",
    "\n",
    "    def show_info(self):\n",
    "        print(f\"{self.name} - 방어력: {self.defense}, 공격력: {self.attack_power if self.attack_power > 0 else '없음'}\")\n",
    "\n",
    "# 방어구 생성\n",
    "armor = Armor(\"철갑 방어구\", 5000, 50)\n",
    "\n",
    "# 초기 정보 출력\n",
    "armor.show_info()  # 강화 전에는 공격력 없음\n",
    "\n",
    "# 방어구 강화\n",
    "armor.upgrade()\n",
    "\n",
    "# 강화 후 정보 출력\n",
    "armor.show_info()  # 강화 후 공격력 추가됨"
   ]
  },
  {
   "cell_type": "markdown",
   "metadata": {},
   "source": [
    "1. **attack_power 속성:** 방어구 클래스에는 기본적으로 attack_power가 0으로 설정되어 있다. 즉, 방어구는 처음에는 공격력이 없고, 오직 강화가 이루어졌을 때만 공격력이 추가된다.\n",
    "2. **강화 후 공격력 추가:** upgrade() 메소드를 통해 방어구가 강화되면, attack_power가 20으로 설정돼서 강화된 방어구에 공격력이 생긴다.\n",
    "3. **동적으로 변화하는 속성:** 이 방식은 강화 여부에 따라 특정 속성(공격력)이 동적으로 변할 수 있는 상황을 처리하는 방법이다."
   ]
  },
  {
   "cell_type": "markdown",
   "metadata": {},
   "source": [
    "#### 예시 \n",
    "##### **무기 클래스 써보기**"
   ]
  },
  {
   "cell_type": "code",
   "execution_count": null,
   "metadata": {},
   "outputs": [],
   "source": [
    "class Weapon(Item):\n",
    "    def __init__(self, name, price, attack_power):\n",
    "        super().__init__(name, price)\n",
    "        self.attack_power = attack_power  # 기본 공격력\n",
    "        self.upgrade_level = 0  # 초기 강화 단계\n",
    "\n",
    "    # 무기 강화 메소드\n",
    "    def upgrade(self):\n",
    "        if self.upgrade_level < 5:  # 최대 5단계까지 강화 가능\n",
    "            self.attack_power += 10  # 강화 시 공격력 +10\n",
    "            self.upgrade_level += 1\n",
    "            print(f\"{self.name}가 강화되었습니다! 현재 공격력: {self.attack_power}, 강화 단계: {self.upgrade_level}\")\n",
    "        else:\n",
    "            print(f\"{self.name}는 최대 강화 단계에 도달했습니다!\")\n",
    "\n",
    "    # 무기 공격 메소드\n",
    "    def attack(self):\n",
    "        print(f\"{self.name}으로 공격! 공격력: {self.attack_power}\")\n",
    "\n",
    "    # 무기 정보 출력\n",
    "    def show_info(self):\n",
    "        print(f\"{self.name} - 공격력: {self.attack_power}, 강화 단계: {self.upgrade_level}\")\n",
    "        \n",
    "# 무기 생성\n",
    "sword = Weapon(\"전설의 한손검\", 10000, 50)\n",
    "\n",
    "# 무기 정보 출력\n",
    "sword.show_info()  # 강화 전 정보\n",
    "\n",
    "# 무기 공격\n",
    "sword.attack()\n",
    "\n",
    "# 무기 강화\n",
    "sword.upgrade()  # 1단계 강화\n",
    "sword.upgrade()  # 2단계 강화\n",
    "\n",
    "# 강화 후 정보 출력\n",
    "sword.show_info()"
   ]
  },
  {
   "cell_type": "markdown",
   "metadata": {},
   "source": [
    "1. attack_power **속성:** 무기는 기본적으로 attack_power(공격력)를 가지고 시작한다. 이 공격력은 무기가 강화될 때마다 증가하게 된다.\n",
    "2. **강화 메소드(**upgrade()**):** 무기는 최대 5단계 까지 강화가 가능하고, 강화할 때 마다 공격력이 10씩 증가한다. 이 단계는 upgrade_level이라는 변수를 사용해서 관리된다.\n",
    "3. **공격 메소드(**attack()**):** 무기를 사용해서 공격할 때는 attack() 메소드를 호출하면 된다. 이 메소드는 현재 무기의 공격력을 출력하며 공격하는 행동을 시뮬레이션해준다.\n",
    "4. **무기 정보 출력 메소드 (**show_info()**):** 무기의 이름, 공격력, 강화 단계를 출력해주는 메소드이다. 무기의 현재 상태를 확인할 수 있다.\n",
    "\n",
    "**방어구와의 차이점:**\n",
    "- 무기는 기본적으로 공격력을 가지고 시작하고, 강화가 주로 공격력 증가에 영향을 미친다. \n",
    "- 방어구는 기본적으로 방어력만 가지고 시작하며, 강화 시 공격력이 추가될 수 있다."
   ]
  },
  {
   "cell_type": "markdown",
   "metadata": {},
   "source": [
    "##### 모든 장비 아이템(무기, 방어구 등)에 동일한 강화 메소드를 적용하고 싶다면?\n",
    "**공통 강화 메소드 적용 예시**"
   ]
  },
  {
   "cell_type": "code",
   "execution_count": null,
   "metadata": {},
   "outputs": [],
   "source": [
    "class Item:\n",
    "    def __init__(self, name, price):\n",
    "        self.name = name\n",
    "        self.price = price\n",
    "        self.upgrade_level = 0  # 모든 장비의 초기 강화 단계\n",
    "\n",
    "    # 모든 장비 아이템에 공통적으로 적용되는 강화 메소드\n",
    "    def upgrade(self):\n",
    "        if self.upgrade_level < 5:  # 최대 5단계까지 강화 가능\n",
    "            self.upgrade_stats()\n",
    "            self.upgrade_level += 1\n",
    "            print(f\"{self.name}가 강화되었습니다! 현재 강화 단계: {self.upgrade_level}\")\n",
    "        else:\n",
    "            print(f\"{self.name}는 최대 강화 단계에 도달했습니다!\")\n",
    "\n",
    "    # 공통적으로 적용되는 강화 로직 (각 아이템별로 다르게 구현)\n",
    "    def upgrade_stats(self):\n",
    "        raise NotImplementedError(\"이 메소드는 각 하위 클래스에서 구현해야 합니다.\")\n",
    "\n",
    "class Weapon(Item):\n",
    "    def __init__(self, name, price, attack_power):\n",
    "        super().__init__(name, price)\n",
    "        self.attack_power = attack_power  # 무기의 기본 공격력\n",
    "\n",
    "    # 무기의 공격력을 강화할 때 증가시키는 로직\n",
    "    def upgrade_stats(self):\n",
    "        self.attack_power += 10  # 강화 시 공격력 +10 증가\n",
    "        print(f\"{self.name}의 공격력이 {self.attack_power}로 증가했습니다.\")\n",
    "\n",
    "    def attack(self):\n",
    "        print(f\"{self.name}으로 공격! 공격력: {self.attack_power}\")\n",
    "\n",
    "class Armor(Item):\n",
    "    def __init__(self, name, price, defense):\n",
    "        super().__init__(name, price)\n",
    "        self.defense = defense  # 방어구의 기본 방어력\n",
    "\n",
    "    # 방어구의 방어력을 강화할 때 증가시키는 로직\n",
    "    def upgrade_stats(self):\n",
    "        self.defense += 5  # 강화 시 방어력 +5 증가\n",
    "        print(f\"{self.name}의 방어력이 {self.defense}로 증가했습니다.\")\n",
    "\n",
    "    def defend(self):\n",
    "        print(f\"{self.name}로 방어! 방어력: {self.defense}\")\n",
    "\n",
    "# 무기와 방어구 생성\n",
    "sword = Weapon(\"전설의 한손검\", 10000, 50)\n",
    "armor = Armor(\"철갑 방어구\", 5000, 30)\n",
    "\n",
    "# 무기 강화\n",
    "sword.upgrade()  # 1단계 강화\n",
    "sword.attack()\n",
    "\n",
    "# 방어구 강화\n",
    "armor.upgrade()  # 1단계 강화\n",
    "armor.defend()"
   ]
  },
  {
   "cell_type": "markdown",
   "metadata": {},
   "source": [
    "1. **공통** upgrade() **메소드:** Item 클래스에 강화 메소드를 정의한다. 이 메소드는 모든 장비(무기, 방어구 등)에 공통적으로 적용된다. 각 장비의 강화는 upgrade_status() 메소드에서 처리되며, 강화 할 때 마다 공격력 또는 방어력이 증가한다.\n",
    "2. upgrade_status() **메소드:** 이 메소드는 각 하위 클래스(무기, 방어구)에서 개별적으로 구현된다. 무기는 공격력을, 방어구는 방어력을 각각 증가시키는 방식으로 다르게 동작한다.raise 3. NotImplementedError를 사용하여 하위 클래스에서 반드시 이 메소드를 구현하게 강제한다. \n",
    "3. **무기와 방어구 강화**: 강화 로직은 공통이지만, 무기는 공격력이 10씩 증가하고 방어구는 방어력이 5씩 증가하도록 각각 다르게 동작한다.\n",
    "\n",
    "**결론:**\n",
    "- **공통 강화 로직**을 상위 클래스에 넣어 **모든 장비에 동일하게 적용**할 수 있다.\n",
    "- 각 아이템의 고유한 속성(공격력, 방어력)은 **하위 클래스**에서 따로 구현하여 강화할 때 어떻게 증가할지 정의할 수 있다.\n",
    "- 이렇게 하면 **코드 중복을 줄이고** 필요한 부분만 하위 클래스에서 맞춤형으로 정의할 수 있다.\n",
    "\n",
    "만약 **포션**처럼 강화가 필요없는 아이템이 있을 경우, 단순히 upgrade() 메소드를 그냥 두고 사용하지 않는 방법도 있지만, 더 좋은 방법은 **포션 클래스에서 강화 메소드를 무효화**하거나 **포션 클래스에는 아예 강화 메소드를 정의하지 않는 것**이다. "
   ]
  },
  {
   "cell_type": "markdown",
   "metadata": {},
   "source": []
  }
 ],
 "metadata": {
  "language_info": {
   "name": "python"
  }
 },
 "nbformat": 4,
 "nbformat_minor": 2
}
