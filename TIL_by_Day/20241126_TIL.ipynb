{
 "cells": [
  {
   "cell_type": "markdown",
   "metadata": {},
   "source": [
    "# 데이터 구축을 위한 API 활용 (OpenAI)\n",
    "- **API 공식 문서를 숙지하자.**\n",
    "    - 요청을 어떻게 보내야 할지, 응답을 어떻게 해야할 지 확인 \n",
    "    - 최신 버전 및 변경사항 체크 (업데이트 하면 코드가 달라질 수 있음. 과거코드가 안될 수도 있다는 것)\n",
    "\n",
    "UTF-8()\n",
    "UTF-8은 문자 인코딩 방식 중 하나로, 다양한 언어의 문자를 컴퓨터에서 표현하기 위해 사용됨. Unicode Transformation Format - 8-bit의 줄임말로, 유니코드(Unicode)를 기반으로 한 가변 길이 문자 인코딩 방식이다.\n",
    "•\tHTML, JSON, XML 등의 웹 기술과 프로그래밍 언어에서 기본 인코딩으로 사용된다.\n"
   ]
  },
  {
   "cell_type": "markdown",
   "metadata": {},
   "source": [
    "# Streamlit 특강 3\n"
   ]
  }
 ],
 "metadata": {
  "language_info": {
   "name": "python"
  }
 },
 "nbformat": 4,
 "nbformat_minor": 2
}
