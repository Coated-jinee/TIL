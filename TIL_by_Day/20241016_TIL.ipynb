{
 "cells": [
  {
   "cell_type": "markdown",
   "metadata": {},
   "source": [
    "### Class"
   ]
  },
  {
   "cell_type": "markdown",
   "metadata": {},
   "source": [
    "![class](image/class.png)"
   ]
  },
  {
   "cell_type": "markdown",
   "metadata": {},
   "source": [
    "<div style=\"text-align: center; font-size: 11px;\">\n",
    "    GPT에게 Class, Object, Instance를 그림으로 표현해달라고 하였다.\n",
    "</div>"
   ]
  },
  {
   "cell_type": "markdown",
   "metadata": {},
   "source": [
    "비유를 하자면, 파이썬의 **Class는 설계도**를 의미하고, **Object(객체)는 그 설계도로 만들어진 실제 물건**(예: 장난감 이나 자동차)이다.\n",
    "\n",
    "**Instance**는 동일한 설계도로 만들어진 각각의 물건을 의미한다. \n",
    "\n",
    "#### 1. Class 알아보기\n",
    "**Class** 라는 용어는 객체지향 프로그래밍에서 쓰이는 개념으로, **\"카테고리\"** 또는 **\"그룹\"**이라는 의미를 가지고 있다.\n",
    "\n",
    "우리가 어떤 특정한 물건이나 개념을 분류할 때 사용하는 **\"Classification(분류)\"**과 비슷한 느낌이다.\n",
    "\n",
    " \n",
    "예를 들어, \"자동차\" 라는 큰 그룹(Class)이 있다고 할 때, 그 안에는 여러 가지 차종(Object)이 있을 수 있다. Class는 자동차라는 그룹을 정의하고, 그 그룹에 속하는 차들이 공통적으로 가져야 할 속성(예: 바퀴 ,엔진)과 행동 (예:가속, 멈춤)을 미리 정해놓는 것이다.\n",
    "\n",
    " \n",
    "\n",
    "쉽게 말해 Class는 \"이런 특성을 가진 물건들을 만들자!\"라고 **미리 정해놓은 설계도나 틀, 규칙** 같은 거다.\n",
    "\n",
    "이 용어를 기억하기 어려우면 **\"분류\" 또는 \"그룹\"** 이라는 뜻으로 이해하면 도움이 된다."
   ]
  },
  {
   "cell_type": "markdown",
   "metadata": {},
   "source": [
    "#### 2. Object 알아보기\n",
    "\n",
    "Object의 뜻은 \"물체\"나 \"물건\"을 가리키는 말이다. 일상적인 영어에서 Object는 우리가 실제로 볼 수 있고 만질 수 있는 \"대상\"을 뜻한다. 그래서 Object라는 단어를 프로그래밍에 적용할 때도, 눈에 보이거나 만질 수 있는 구체적인 \"대상\"을 의미하는 것이다.\n",
    "\n",
    "프로그래밍에서 Object는 단순히 개념적인 설계도인 Class와 달리, 그 설계도에 따라 만들어진 구체적인 '실물' 이라는 의미로 쓰인다.\n",
    "\n",
    "\n",
    "예를 들어, 자동차의 설계도인 Class를 바탕으로, 실제로 공장에서 만들어진 차가 바로 Object에 해당한다. 이 차는 설계도에서 정의된 바퀴, 엔진 등의 속성과 기능을 가지고 있다. 하지만 각 Object는 같은 Class에서 나왔더라고 조금씩 다를 수 있다. 예를 들어, 색상이나 차종이 다를 수 있다. \n",
    "\n",
    "근데 난 자동차에 관심이 없어서 그런지 이 설명이 나한테 직관적이진 않았다.\n",
    "\n",
    "그래서 자동차 말고 게임(MMORPG)을 예로 들어 클래스를 이해하고자 한다.\n",
    "\n",
    "게임 내에서는 캐릭터, 아이템, 몬스터, 스킬 등 다양한 개체들이 존재하고, 각각의 개체들은 특정한 Class에 따라 만들어진다."
   ]
  },
  {
   "cell_type": "markdown",
   "metadata": {},
   "source": [
    "##### 1. 캐릭터 클래스\n",
    "- 전사, 마법사, 궁수, 도적 같은 직업들은 각각의 클래스라고 할 수 있다. 각각의 직업에는 공통적인 속성(레벨, 체력, 마나 등)과 행동(공격, 스킬사용)이 있지만, 각 직업마다 차별화 된 스킬과 능력이 존재한다. 이런 공통적인 속성과 행동을 Class로 정의하고, 각 직업에 맞게 다르게 구현할 수 있다. "
   ]
  },
  {
   "cell_type": "code",
   "execution_count": null,
   "metadata": {},
   "outputs": [],
   "source": [
    "class Warrior(Character):  # 전사 직업 클래스\n",
    "    def skill(self):\n",
    "        print(f\"{self.name}가 파워 슬래시를 사용했습니다!\")\n",
    "\n",
    "class Mage(Character):  # 마법사 직업 클래스\n",
    "    def skill(self):\n",
    "        print(f\"{self.name}가 파이어볼을 사용했습니다!\")"
   ]
  },
  {
   "cell_type": "markdown",
   "metadata": {},
   "source": [
    "##### 2. 아이템 클래스\n",
    "- 게임에서 무기, 방어구, 포션 같은 아이템들도 Class로 구분할 수 있다. 각 아이템은 공통적으로 \"이름\", \"효과\", \"가격\" 같은 속성을 가지지만, 무기와 포션은 서로 다른 기능을 한다. 그래서 Item이라는 기본 Class를 만들고, 그걸 상속받아 Weapon, Potion 같은 세부적인 Class를 정의할 수 있다. "
   ]
  },
  {
   "cell_type": "code",
   "execution_count": null,
   "metadata": {},
   "outputs": [],
   "source": [
    "class Item:\n",
    "    def __init__(self, name, effect):\n",
    "        self.name = name\n",
    "        self.effect = effect\n",
    "\n",
    "class Weapon(Item):\n",
    "    def attack(self):\n",
    "        print(f\"{self.name}로 공격했습니다!\")\n",
    "\n",
    "class Potion(Item):\n",
    "    def heal(self):\n",
    "        print(f\"{self.name}를 사용해 체력을 회복했습니다!\")"
   ]
  },
  {
   "cell_type": "markdown",
   "metadata": {},
   "source": [
    "##### 3. 몬스터 클래스\n",
    "- 게임에 등장하는 몬스터들도 Class로 정의해 관리한다. 예를 들어 슬라임, 주황버섯 같은 몬스터는 공통적으로 체력, 공격력 같은 속성을 가지고 있고, 각각의 공격 방법은 다를 수 있다. 이런 공통 속성을 가진 Monster 클래스를 만들고, 이를 상속받아 각각의 몬스터를 구체적으로 구현할 수 있다."
   ]
  },
  {
   "cell_type": "code",
   "execution_count": null,
   "metadata": {},
   "outputs": [],
   "source": [
    "class Monster:\n",
    "    def __init__(self, name, health, attack_power):\n",
    "        self.name = name\n",
    "        self.health = health\n",
    "        self.attack_power = attack_power\n",
    "\n",
    "    def attack(self):\n",
    "        print(f\"{self.name}가 {self.attack_power}만큼 공격했습니다!\")\n",
    "\n",
    "class Slime(Monster):\n",
    "    def jump(self):\n",
    "        print(f\"{self.name}가 점프해서 공격합니다!\")"
   ]
  },
  {
   "cell_type": "markdown",
   "metadata": {},
   "source": [
    "##### 왜 구별할까? \n",
    "게임에서 Class를 사용하는 이유는 복잡한 시스템을 체계적으로 관리하고, 유지보수를 쉽게 하기 위해서이다. \n",
    "\n",
    "**1. 재사용성:** Class를 사용하면 기본적인 구조를 한 번만 정의하고, 이를 여러 군데에서 재사용할 수 있다. 전사, 마법사, 궁수,도적 처럼 서로 다른 직업이더라도 공통적으로 가져야 할 속성(레벨, 체력 등)을 한 곳에서 관리하고, 직업별로 필요한 기능한 추가로 구현하면 된다.\n",
    "\n",
    "**2. 유지보수 편리성:** 새로운 캐릭터 직업이나 몬스터가 추가될 때, 기존의 Class 구조를 기반으로 새 직업이나 몬스터를 쉽게 추가할 수 있다. 변경 사항이 생기면 Class에서만 수정하기 때문에 코드의 유지보수가 훨씬 편해진다.\n",
    "\n",
    "**3. 확장성:** Class를 구별해두면 새로운 기능이나 요소를 추가할 때, 기존 시스템과의 충돌 없이 확장할 수 있다. 예를 들어, 새로운 캐릭터 직업을 만들거나 새로운 스킬을 추가하는 것이 수월해진다. "
   ]
  },
  {
   "cell_type": "markdown",
   "metadata": {},
   "source": [
    "**아이템 클래스를 예로 들어, 조금 더 세부적으로 이해해보자**\n",
    "\n",
    "* 게임 모르면 머리아플 수 있음 "
   ]
  },
  {
   "cell_type": "code",
   "execution_count": null,
   "metadata": {},
   "outputs": [],
   "source": [
    "# 기본 아이템 클래스 (공통 속성 정의)\n",
    "class Item:\n",
    "    def __init__(self, name, item_type):\n",
    "        self.name = name  # 아이템 이름\n",
    "        self.item_type = item_type  # 아이템 종류 (무기, 방어구, 포션 등)\n",
    "\n",
    "    def show_info(self):\n",
    "        print(f\"{self.name} - 종류: {self.item_type}\")\n",
    "\n",
    "# 무기 클래스 (아이템 상속)\n",
    "class Weapon(Item):\n",
    "    def __init__(self, name, rarity, weapon_type):\n",
    "        super().__init__(name, \"Weapon\")\n",
    "        self.rarity = rarity  # 무기의 희귀도 (일반, 레어 등)\n",
    "        self.weapon_type = weapon_type  # 무기의 세부 종류 (한손검, 두손검 등)\n",
    "\n",
    "    def attack(self):\n",
    "        print(f\"{self.name}으로 공격합니다!\")\n",
    "\n",
    "# 방어구 클래스 (아이템 상속)\n",
    "class Armor(Item):\n",
    "    def __init__(self, name, rarity, armor_type):\n",
    "        super().__init__(name, \"Armor\")\n",
    "        self.rarity = rarity  # 방어구의 희귀도\n",
    "        self.armor_type = armor_type  # 방어구의 세부 종류 (모자, 상의 등)\n",
    "\n",
    "# 포션 클래스 (아이템 상속, 희귀도 없음)\n",
    "class Potion(Item):\n",
    "    def __init__(self, name, effect):\n",
    "        super().__init__(name, \"Potion\")\n",
    "        self.effect = effect  # 포션의 효과 (예: 체력 회복)\n",
    "\n",
    "    def use(self):\n",
    "        print(f\"{self.name}을 사용해 {self.effect} 효과를 얻었습니다!\")\n",
    "\n",
    "# 세부적인 무기 클래스들\n",
    "class OneHandSword(Weapon):\n",
    "    def __init__(self, name, rarity):\n",
    "        super().__init__(name, rarity, \"One-Hand Sword\")\n",
    "\n",
    "class TwoHandSword(Weapon):\n",
    "    def __init__(self, name, rarity):\n",
    "        super().__init__(name, rarity, \"Two-Hand Sword\")\n",
    "\n",
    "class Staff(Weapon):\n",
    "    def __init__(self, name, rarity):\n",
    "        super().__init__(name, rarity, \"Staff\")\n",
    "\n",
    "class Bow(Weapon):\n",
    "    def __init__(self, name, rarity):\n",
    "        super().__init__(name, rarity, \"Bow\")\n",
    "\n",
    "# 세부적인 방어구 클래스들\n",
    "class Hat(Armor):\n",
    "    def __init__(self, name, rarity):\n",
    "        super().__init__(name, rarity, \"Hat\")\n",
    "\n",
    "class Top(Armor):\n",
    "    def __init__(self, name, rarity):\n",
    "        super().__init__(name, rarity, \"Top\")\n",
    "\n",
    "class Bottom(Armor):\n",
    "    def __init__(self, name, rarity):\n",
    "        super().__init__(name, rarity, \"Bottom\")\n",
    "\n",
    "class Ring(Armor):\n",
    "    def __init__(self, name, rarity):\n",
    "        super().__init__(name, rarity, \"Ring\")\n",
    "\n",
    "class Necklace(Armor):\n",
    "    def __init__(self, name, rarity):\n",
    "        super().__init__(name, rarity, \"Necklace\")\n",
    "\n",
    "# 아이템 예시\n",
    "sabur = OneHandSword(\"사브르\", \"Rare\")\n",
    "kukri = OneHandSword(\"쿠크리\", \"Unique\")\n",
    "cloudy = TwoHandSword(\"클러디\", \"Epic\")\n",
    "red_hood = Hat(\"빨간두건\", \"Normal\")\n",
    "heart_tshirt = Top(\"하트티셔츠\", \"Rare\")\n",
    "gaen_ring = Ring(\"가엔링\", \"Legendary\")\n",
    "meca_necklace = Necklace(\"메커\", \"Legendary\")\n",
    "\n",
    "# 예시 아이템 출력\n",
    "sabur.show_info()\n",
    "kukri.attack()\n",
    "cloudy.show_info()\n",
    "red_hood.show_info()\n",
    "heart_tshirt.show_info()\n",
    "gaen_ring.show_info()\n",
    "meca_necklace.show_info()"
   ]
  }
 ],
 "metadata": {
  "kernelspec": {
   "display_name": "DLenv",
   "language": "python",
   "name": "python3"
  },
  "language_info": {
   "codemirror_mode": {
    "name": "ipython",
    "version": 3
   },
   "file_extension": ".py",
   "mimetype": "text/x-python",
   "name": "python",
   "nbconvert_exporter": "python",
   "pygments_lexer": "ipython3",
   "version": "3.8.18"
  }
 },
 "nbformat": 4,
 "nbformat_minor": 2
}
