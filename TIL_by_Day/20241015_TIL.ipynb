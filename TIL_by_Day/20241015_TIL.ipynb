{
 "cells": [
  {
   "cell_type": "markdown",
   "metadata": {},
   "source": [
    "과제로 제출했던 '숫자맞추기 게임' 구현 내용이 들어있다."
   ]
  },
  {
   "cell_type": "markdown",
   "metadata": {},
   "source": [
    "### 문제풀이 - 숫자맞추기 게임\n",
    "#### 문제 설명\n",
    "1. 컴퓨터가 1 부터 10 사이의 랜덤 숫자를 선택합니다.\n",
    "\n",
    "2. 플레이어는 숫자를 입력하고, 컴퓨터는 입력한 숫자보다 큰지 작은지를 힌트로 제공합니다.\n",
    "\n",
    "3. 플레이어가 숫자를 맞출 때까지 반복됩니다.\n",
    "\n",
    "#### 구현 기능\n",
    "1. random 모듈을 사용하여 숫자를 생성\n",
    "\n",
    "2. input() 으로 사용자의 입력을 받기\n",
    "\n",
    "3. 숫자를 만추기 전 까지 반복 \n",
    "\n",
    "#### 문제 추론\n",
    "사용자의 입력 값을 받아서 랜덤으로 생성된 숫자와 비교해야한다.\n",
    "\n",
    "'랜덤 숫자와 입력된 숫자가 일치하는 동안만 반복하겠다' 이므로 while 반복문을 사용한다."
   ]
  },
  {
   "cell_type": "markdown",
   "metadata": {},
   "source": [
    "##### 코드작성 v1"
   ]
  },
  {
   "cell_type": "code",
   "execution_count": null,
   "metadata": {},
   "outputs": [
    {
     "name": "stdout",
     "output_type": "stream",
     "text": [
      "힌트 제공: 5 보다 작은 숫자입니다.\n",
      "힌트 제공: 4 보다 작은 숫자입니다.\n",
      "힌트 제공: 3 보다 작은 숫자입니다.\n",
      "힌트 제공: 2 보다 작은 숫자입니다.\n",
      "힌트 제공: 1 보다 작은 숫자입니다.\n",
      "힌트 제공: 0 보다 작은 숫자입니다.\n",
      "힌트 제공: 0 보다 작은 숫자입니다.\n",
      "힌트 제공: 0 보다 작은 숫자입니다.\n",
      "힌트 제공: -1 보다 작은 숫자입니다.\n"
     ]
    }
   ],
   "source": [
    "import random \n",
    "\n",
    "random_number = random.randint(1, 10) #변수 만들어서 랜덤숫자 넣기\n",
    "user_input = int(input(\"0부터 10 사이의 랜덤 숫자를 입력하세요.\")) #input으로 숫자 입력 받기. \n",
    "# 뒤에 비교 연산자를 써야하기 때문에 int 변환 추가\n",
    "\n",
    "while random_number != user_input:\n",
    "   if user_input == random_number:\n",
    "       print(\"정답입니다\")\n",
    "       break\n",
    "   elif user_input > random_number:\n",
    "       print(f\"힌트 제공: {user_input} 보다 큰 숫자입니다.\")\n",
    "       user_input = int(input(\"0부터 10 사이의 랜덤 숫자를 입력하세요.\"))\n",
    "   else:\n",
    "       print(f\"힌트 제공: {user_input} 보다 작은 숫자입니다.\")\n",
    "       user_input = int(input(\"0부터 10 사이의 랜덤 숫자를 입력하세요.\"))"
   ]
  },
  {
   "cell_type": "markdown",
   "metadata": {},
   "source": [
    "##### 문제점\n",
    " 0보다 작은 수는 없는데, 정답이 나오지 않았다, 조건이 else로 넘어가면 나오질 못한다. \n",
    "\n",
    " 그리고 랜덤 숫자가 몇인지 확인이 안되니까 답답함. \n",
    "\n",
    "그리고 0을 입력하면 결과적으로 가장 작은 숫자기 때문에 코드가 종료되야하는데, 입력 값을 계속 받았다. \n",
    "\n",
    "이 코드는 불필요한 조건검사와 break 문 사용이 모호하다.\n",
    "\n",
    "- while random_number != user_input 조건문에서 이미 random_number와 user_input이 다를 때만 루프가 반복되도록 설정했기 때문에, 루프 내부의 if user_input == random_number 조건문은 불필요하다.\n",
    "- 이로 인해 break 문도 필요하지 않으며, 코드를 복잡하게 만들고 혼란을 줄 수 있다.\n",
    "\n",
    "##### 수정사항\n",
    "- 1부터 10까지의 랜덤 숫자를 만드는 코드를 써놓고, 0부터 10까지의 랜덤 숫자를 입력하라는 메시지를 써뒀음. 이걸 '1부터 10까지의 랜덤 숫자를 입력하세요. '로 수정 \n",
    "- 디버깅을 위해 랜덤 숫자를 미리 확인하는 코드를 추가함"
   ]
  },
  {
   "cell_type": "markdown",
   "metadata": {},
   "source": [
    "##### 코드작성 v2"
   ]
  },
  {
   "cell_type": "code",
   "execution_count": null,
   "metadata": {},
   "outputs": [],
   "source": [
    "import random\n",
    "\n",
    "random_number = random.randint(1, 10)\n",
    "print(f\"디버깅용: 생성된 랜덤 숫자는 {random_number}입니다.\")\n",
    "user_input = int(input(\"1 부터 10 사이의 랜덤 숫자를 입력하세요.\"))\n",
    "\n",
    "while random_number != user_input:\n",
    "   if user_input == random_number:\n",
    "       print(\"정답입니다\")\n",
    "       break\n",
    "   elif user_input > random_number:\n",
    "       print(f\"힌트 제공: {user_input} 보다 큰 숫자입니다.\")\n",
    "       user_input = int(input(\"1부터 10 사이의 랜덤 숫자를 입력하세요.\"))\n",
    "   else:\n",
    "       print(f\"힌트 제공: {user_input} 보다 작은 숫자입니다.\")\n",
    "       user_input = int(input(\"1부터 10 사이의 랜덤 숫자를 입력하세요.\"))"
   ]
  },
  {
   "cell_type": "markdown",
   "metadata": {},
   "source": [
    "##### 문제점\n",
    "랜덤 숫자가 '8'인걸 확인하고 '9'를 입력값으로 넣었는데 '9보다 큰 숫자입니다. '라는 힌트를 제공했다.\n",
    "\n",
    "코드를 훑어보니까 조건을 반대로 걸었다는 것을 확인했다. (비교 연산 기호를 반대로 씀).\n",
    "\n",
    "**'랜덤 숫자'가 '입력값'보다 큰 경우**에 (예시: 입력3 < 랜덤9) 힌트로 **'{user_input} 보다 큰 숫자입니다.'** 를 줘야하는데, \n",
    "\n",
    "랜덤숫자가 입력값 보다 작은데 힌트로 '{user_input}보다 큰 숫자입니다.' 를 줘버렸다.\n",
    "\n",
    "##### 수정 사항\n",
    "무한루프 해결과 비교 연산에서 메시지를 잘못 출력하는 것 수정"
   ]
  },
  {
   "cell_type": "markdown",
   "metadata": {},
   "source": [
    "##### 코드작성 v3"
   ]
  },
  {
   "cell_type": "code",
   "execution_count": null,
   "metadata": {},
   "outputs": [],
   "source": [
    "import random\n",
    "\n",
    "random_number = random.randint(1, 10)\n",
    "print(f\"디버깅용: 생성된 랜덤 숫자는 {random_number}입니다.\")\n",
    "user_input = int(input(\"1 부터 10 사이의 랜덤 숫자를 입력하세요.\"))\n",
    "\n",
    "while random_number != user_input:\n",
    "   if user_input == random_number:\n",
    "       print(\"정답입니다\")\n",
    "       break\n",
    "   elif user_input < random_number: #입력숫자가 랜덤보다 큰 경우가 참이되고, 아래를 실행시키겠다.\n",
    "       print(f\"힌트 제공: {user_input} 보다 큰 숫자입니다.\")\n",
    "       user_input = int(input(\"1부터 10 사이의 랜덤 숫자를 입력하세요.\"))\n",
    "   else:\n",
    "       print(f\"힌트 제공: {user_input} 보다 작은 숫자입니다.\")\n",
    "       user_input = int(input(\"1부터 10 사이의 랜덤 숫자를 입력하세요.\"))"
   ]
  },
  {
   "cell_type": "markdown",
   "metadata": {},
   "source": [
    "코드는 랜덤 숫자를 맞추면 정상적으로 종료된다. \n",
    " \n",
    "##### 문제점\n",
    "if에 입력값과 랜덤숫자가 일치하면 '정답입니다'를 출력해야 하는데, 안나왔다.\n",
    "\n",
    "GPT의 힌트를 보니까 if user_input == random_number: 이 부분이 while 루프 내부에서 이미 불필요하게 처리되고 있을 가능성이 있다고 한다. 이 조건이 없어도 코드의 흐름 상 루프가 존재하기 때문에 굳이 필요하지 않다고 함\n",
    "\n",
    "##### 해결방법\n",
    "루프가 종료된 후, 정답입니다라는 메시지를 출력하는 방식으로 변경하였다."
   ]
  },
  {
   "cell_type": "markdown",
   "metadata": {},
   "source": [
    "##### (최종) 코드 작성 v4"
   ]
  },
  {
   "cell_type": "code",
   "execution_count": 1,
   "metadata": {},
   "outputs": [
    {
     "name": "stdout",
     "output_type": "stream",
     "text": [
      "디버깅용: 생성된 랜덤 숫자는 10입니다.\n",
      "힌트 제공: 5 보다 큰 숫자입니다.\n",
      "힌트 제공: 7 보다 큰 숫자입니다.\n",
      "정답입니다.\n"
     ]
    }
   ],
   "source": [
    "import random\n",
    "\n",
    "random_number = random.randint(1, 10)\n",
    "print(f\"디버깅용: 생성된 랜덤 숫자는 {random_number}입니다.\")\n",
    "user_input = int(input(\"1 부터 10 사이의 랜덤 숫자를 입력하세요.\"))\n",
    "\n",
    "while random_number != user_input:\n",
    "   if user_input < random_number: #입력숫자가 랜덤보다 큰 경우가 참이되고, 아래를 실행시키겠다.\n",
    "       print(f\"힌트 제공: {user_input} 보다 큰 숫자입니다.\")\n",
    "       user_input = int(input(\"1부터 10 사이의 랜덤 숫자를 입력하세요.\"))\n",
    "   else:\n",
    "       print(f\"힌트 제공: {user_input} 보다 작은 숫자입니다.\")\n",
    "       user_input = int(input(\"1부터 10 사이의 랜덤 숫자를 입력하세요.\"))\n",
    "\n",
    "print(\"정답입니다.\")"
   ]
  },
  {
   "cell_type": "markdown",
   "metadata": {},
   "source": [
    "##### 수정 사항\n",
    "불필요했던 if user_input == random_number: 부분을 빼고 elif와 else에 썼던걸 if, else로 바꿈.\n",
    "\n",
    "루프 밖에 '정답입니다'를 출력시켜서 루프가 끝나면 '정답입니다'가 나오게 바꿈"
   ]
  },
  {
   "cell_type": "markdown",
   "metadata": {},
   "source": [
    "#### 추가 팁\n",
    "##### 예외 처리하기 \n",
    "\n",
    "**1. 잘못된 입력 처리:** 잘못된 입력 처리(예시: 사용자가 정수가 아닌 값을 입력할때)를 고려한 처리를 추가해주면 더 견고한 코드를 만들 수 있다. \n",
    "\n",
    "*해결 힌트:** try-except 문을 사용하여 잘못된 입력을 처리하고 다시 입력을 받도록 할 수 있다.\n",
    "\n",
    "**2. 입력 범위 체크:** 사용자가 1부터 10사이가 아닌 숫자를 입력할 경우, 프로그램은 여전히 동작하겠지만, 게임의 목적에 맞지 않을 수 있다. \n",
    "\n",
    "예를 들어 11이나 0을 입력하면 사용자의 의도와 다르게 작용할 수 있다. \n",
    "\n",
    "**예외 처리 해야 할 듯**\n",
    "\n",
    "나는 input 메시지로 계속 '1 부터 10 사이의 랜덤 숫자를 입력하세요' 를 넣어줬으니\n",
    "\n",
    "3000 이나 0을 입력해도, 계속 '1 부터 10 사이의 랜덤 숫자를 입력하세요' 가 뜨면서 숫자의 범위에 대한 안내를 하는데\n",
    "\n",
    "만약 내가 이 안내메시지를 '랜덤 숫자를 입력하세요.' 로만 출력해버렸으면 \n",
    "\n",
    "사용자가 숫자 입력 범위를 몰라 많이 해맬수도 있었을 것 같다. "
   ]
  },
  {
   "cell_type": "markdown",
   "metadata": {},
   "source": [
    "#### 과제에 제출하지는 않겠지만 예외처리를 한 코드\n",
    "\n",
    "이 코드를 제출하지 않는 이유는 내가 아직 try-except 문 사용법을 모르지만,\n",
    "\n",
    "예외처리를 어떤식으로 해야하는지는 궁금해서 GPT 한테 물어봐서 답을 알아냈기 때문"
   ]
  },
  {
   "cell_type": "code",
   "execution_count": null,
   "metadata": {},
   "outputs": [],
   "source": [
    "import random\n",
    "\n",
    "random_number = random.randint(1, 10)\n",
    "user_input = None\n",
    "\n",
    "while random_number != user_input:\n",
    "    try:\n",
    "        # 사용자 입력받기\n",
    "        user_input = int(input(\"1부터 10 사이의 랜덤 숫자를 입력하세요: \"))\n",
    "        \n",
    "        # 입력값이 1~10 범위 밖이면 다시 입력 받기\n",
    "        if user_input < 1 or user_input > 10:\n",
    "            print(\"1부터 10 사이의 숫자만 입력해주세요.\")\n",
    "            continue  # 다시 입력 받도록 루프 계속\n",
    "        \n",
    "        # 힌트 제공\n",
    "        if user_input < random_number:\n",
    "            print(f\"힌트 제공: {user_input} 보다 큰 숫자입니다.\")\n",
    "        elif user_input > random_number:\n",
    "            print(f\"힌트 제공: {user_input} 보다 작은 숫자입니다.\")\n",
    "    except ValueError:\n",
    "        # 문자를 입력했을 경우 처리\n",
    "        print(\"유효하지 않은 입력입니다. 숫자를 입력하세요.\")\n",
    "        continue  # 다시 입력 받기\n",
    "\n",
    "print(\"정답입니다!\")"
   ]
  }
 ],
 "metadata": {
  "kernelspec": {
   "display_name": "DLenv",
   "language": "python",
   "name": "python3"
  },
  "language_info": {
   "codemirror_mode": {
    "name": "ipython",
    "version": 3
   },
   "file_extension": ".py",
   "mimetype": "text/x-python",
   "name": "python",
   "nbconvert_exporter": "python",
   "pygments_lexer": "ipython3",
   "version": "3.8.18"
  }
 },
 "nbformat": 4,
 "nbformat_minor": 2
}
