{
 "cells": [
  {
   "cell_type": "markdown",
   "metadata": {},
   "source": [
    "딥러닝에서 자주 사용되는 모델:\n",
    "1. 인공 신경망(Artificial Neural Network, ANN)\n",
    "2. 합성곱 신경망(Convolutional Neural Network, CNN)\n",
    "3. 순환 신경망(Recurrent Neural Network, RNN)\n",
    "4. 장기 단기 메모리 네트워크(Long Short-Term Memory, LSTM)"
   ]
  }
 ],
 "metadata": {
  "language_info": {
   "name": "python"
  }
 },
 "nbformat": 4,
 "nbformat_minor": 2
}
