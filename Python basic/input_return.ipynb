{
 "cells": [
  {
   "cell_type": "markdown",
   "metadata": {},
   "source": [
    "#### 1. input()\n",
    "**기본 동작:** 괄호 안에 문자열을 넣으면 사용자가 입력할 때 콘솔에 해당 문자열을 출력하고 사용자가 엔터키를 누를 때 까지 대기한다. 그런 다음 입력된 값을 문자열로 받아 프로그램에서 사용할 수 있도록 함."
   ]
  },
  {
   "cell_type": "code",
   "execution_count": null,
   "metadata": {},
   "outputs": [],
   "source": [
    "while True:\n",
    "    score = int(input(\"점수를 입력하세요 (종료하려면 -1을 입력하세요): \"))\n",
    "    \n",
    "    if score == -1:  # 종료 조건\n",
    "        print(\"프로그램을 종료합니다.\")\n",
    "        break\n",
    "    \n",
    "    if score >= 90:\n",
    "        print(\"A 학점\")\n",
    "    elif score >= 80:\n",
    "        print(\"B 학점\")\n",
    "    elif score >= 70:\n",
    "        print(\"C 학점\")\n",
    "    elif score >= 60:\n",
    "        print(\"D 학점\")\n",
    "    else:\n",
    "        print(\"F 학점\")"
   ]
  },
  {
   "cell_type": "markdown",
   "metadata": {},
   "source": [
    "특징:\n",
    "(1) 기본적으로 input()은 한 줄의 입력만 받는다. 여러줄의 입력을 받으려면 루프를 사용하거나 해야한다.\n",
    "\n",
    "(2) input() 값은 항상 문자열 이다. 계산에 사용하려면 int()또는 float()으로 변환해야 한다. "
   ]
  },
  {
   "cell_type": "markdown",
   "metadata": {},
   "source": [
    "#### 2. 함수 반환 - return\n",
    "- **기본 동작:** 함수가 작업을 수행 한 후의 결과를 함수 바깥으로 돌려주는 값. 함수는 값을 반환하지 않을 수도 있으며, 반환 값이 없을 때는 None이 반환됨."
   ]
  },
  {
   "cell_type": "code",
   "execution_count": null,
   "metadata": {},
   "outputs": [],
   "source": [
    "def multiply(x, y):\n",
    "    return x * y  # 곱셈 결과를 반환\n",
    "\n",
    "result = multiply(4, 5)\n",
    "print(result)  # 출력: 20\n"
   ]
  },
  {
   "cell_type": "markdown",
   "metadata": {},
   "source": [
    "**특징:**\n",
    "- 변수에 값을 저장해서 출력할 수 있음. 이게 print와 다른 점. 아래 참고"
   ]
  },
  {
   "cell_type": "code",
   "execution_count": null,
   "metadata": {},
   "outputs": [],
   "source": [
    "def multiply(x, y):\n",
    "    print(x * y)  # 곱셈 결과를 출력\n",
    "    \n",
    "multiply(3, 5)  # 출력: 15\n",
    "  \n",
    "result = multiply(3, 5)  # result에는 아무 값도 저장되지 않음 (None)\n",
    "print(result)  # 출력: None"
   ]
  },
  {
   "cell_type": "markdown",
   "metadata": {},
   "source": [
    "print는 결과를 반환하는 것이 아니므로, 다른 변수에 그 값을 저장하거나 추가 계산을 할 수 없다."
   ]
  },
  {
   "cell_type": "markdown",
   "metadata": {},
   "source": [
    "#### 3. 함수 기본값 (Default Parameter)"
   ]
  },
  {
   "cell_type": "code",
   "execution_count": null,
   "metadata": {},
   "outputs": [],
   "source": [
    "def greet(name=\"손님\"):\n",
    "    return f\"안녕하세요, {name}님!\"\n",
    "\n",
    "print(greet())          # 안녕하세요, 손님님!\n",
    "print(greet(\"Alice\"))   # 안녕하세요, Alice님!"
   ]
  },
  {
   "cell_type": "markdown",
   "metadata": {},
   "source": [
    "이 예시에서 \bname 매개변수는 기본값으로 \"손님\"을 가지며, 함수 호출 시 인수를 전달하지 않으면 \"손님\"이 사용됨."
   ]
  }
 ],
 "metadata": {
  "kernelspec": {
   "display_name": "DLenv",
   "language": "python",
   "name": "python3"
  },
  "language_info": {
   "codemirror_mode": {
    "name": "ipython",
    "version": 3
   },
   "file_extension": ".py",
   "mimetype": "text/x-python",
   "name": "python",
   "nbconvert_exporter": "python",
   "pygments_lexer": "ipython3",
   "version": "3.8.18"
  }
 },
 "nbformat": 4,
 "nbformat_minor": 2
}
